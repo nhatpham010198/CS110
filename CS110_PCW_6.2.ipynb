{
 "cells": [
  {
   "cell_type": "markdown",
   "metadata": {},
   "source": [
    "Before you turn this problem in, make sure everything runs as expected. First, **restart the kernel** (in the menubar, select Kernel$\\rightarrow$Restart) and then **run all cells** (in the menubar, select Cell$\\rightarrow$Run All).\n",
    "\n",
    "Make sure you fill in any place that says `YOUR CODE HERE` or \"YOUR ANSWER HERE\", as well as your name and collaborators below:"
   ]
  },
  {
   "cell_type": "code",
   "execution_count": null,
   "metadata": {},
   "outputs": [],
   "source": [
    "NAME = \"Nhat Pham\"\n",
    "COLLABORATORS = \"\""
   ]
  },
  {
   "cell_type": "markdown",
   "metadata": {},
   "source": [
    "---"
   ]
  },
  {
   "cell_type": "markdown",
   "metadata": {
    "deletable": false,
    "editable": false,
    "nbgrader": {
     "checksum": "499babfdbdc05aec285e42abdf82edd4",
     "grade": false,
     "grade_id": "cell-f534ec91df9dff5f",
     "locked": true,
     "schema_version": 1,
     "solution": false
    }
   },
   "source": [
    "# CS110 Pre-class Work 6.2\n",
    "\n",
    "## Part A. Median-of-3 partitioning quicksort \n",
    "\n",
    "## Question 1.\n",
    "\n",
    "Read through the following Python code. What does each function (i.e., median, qsort, randomized_qsort, test_qsort) do? Comment in details each function. \n"
   ]
  },
  {
   "cell_type": "code",
   "execution_count": 181,
   "metadata": {},
   "outputs": [
    {
     "name": "stdout",
     "output_type": "stream",
     "text": [
      "0.0005920680014241952\n"
     ]
    }
   ],
   "source": [
    "import timeit\n",
    "import random\n",
    "\n",
    "eps = 1e-16\n",
    "\n",
    "locations = [0.0, 0.5, 1.0 - eps]\n",
    "\n",
    "# find the median of three values x1, x2, x3.\n",
    "#Input: a list of 3 number\n",
    "#Output: the median number of three inputs\n",
    "def median(x1, x2, x3):\n",
    "    if (x1 < x2 < x3) or (x3 < x2 < x1):\n",
    "        return x2\n",
    "    elif (x1 < x3 < x2) or (x2 < x3 < x1):\n",
    "        return x3\n",
    "    else:\n",
    "        return x1\n",
    "\n",
    "#define quickshort function\n",
    "#input: an arbitrary list\n",
    "#output: sorted list\n",
    "\n",
    "def qsort(lst):\n",
    "    indices = [(0, len(lst))] #indice is a tuple of 2 elements\n",
    "\n",
    "    while indices: #while indice is not empty\n",
    "        (frm, to) = indices.pop() #assign from = 0 and to = len(lst)\n",
    "        if frm == to: #if from = to skip the following operations\n",
    "            continue\n",
    "\n",
    "        # Find the partition:\n",
    "        N = to - frm #N is the number of element in the list\n",
    "        inds = [frm + int(N * n) for n in locations] #inds is a list of values following this rule\n",
    "        values = [lst[ind] for ind in inds] #[a list of elements in the list whose indexes are in inds]\n",
    "        partition = median(*values) #partition is the median value of the list values\n",
    "\n",
    "        # Split into lists:\n",
    "        lower = [a for a in lst[frm:to] if a < partition] #split the list to 2 using the median threshold\n",
    "        upper = [a for a in lst[frm:to] if a > partition]\n",
    "        #count the frequence of the median value in the list\n",
    "        counts = sum([1 for a in lst[frm:to] if a == partition]) \n",
    "\n",
    "        ind1 = frm + len(lower) #the ending index of list 1\n",
    "        ind2 = ind1 + counts #the ending index of the sublist of all median values (in line 48)\n",
    "\n",
    "        # Push back into correct place:\n",
    "        lst[frm:ind1] = lower #first part having all value smaller than the median value\n",
    "        lst[ind1:ind2] = [partition] * counts #the median value\n",
    "        lst[ind2:to] = upper #the third part of having all values larger the median value\n",
    "\n",
    "        # Enqueue other locations\n",
    "#         append indexes of the first and third part of the list in indices\n",
    "        indices.append((frm, ind1)) \n",
    "        indices.append((ind2, to))\n",
    "    return lst\n",
    "\n",
    "#randomize a list of all unique value from 0 to N-1. Output is the sorted list of such numbers\n",
    "def randomized_quicksort():\n",
    "    lst = [i for i in range(N)]\n",
    "    random.shuffle(lst)\n",
    "    return qsort(lst)\n",
    "\n",
    "#test if the ramdomized_quicksort() works as intended\n",
    "def test_quicksort():\n",
    "    lst = randomized_quicksort()\n",
    "    assert (lst == [i for i in range(N)])\n",
    "\n",
    "\n",
    "# Is our algorithm correct\n",
    "test_quicksort()\n",
    "\n",
    "# How fast is our algorithm\n",
    "print(timeit.timeit(randomized_quicksort, number=1))"
   ]
  },
  {
   "cell_type": "markdown",
   "metadata": {
    "deletable": false,
    "editable": false,
    "nbgrader": {
     "checksum": "61fb11bff1434e4b7276c7443b0267c6",
     "grade": false,
     "grade_id": "cell-a2b2429aa4e81403",
     "locked": true,
     "schema_version": 1,
     "solution": false
    }
   },
   "source": [
    "## Question 2.\n",
    "\n",
    "What are the main differences between the `randomized_quicksort` in the code and $RANDOMIZED-QUICKSORT$ in Cormen et al., besides that the partition of `randomized_quicksort` uses a median of 3 as a pivot?"
   ]
  },
  {
   "cell_type": "markdown",
   "metadata": {
    "deletable": false,
    "nbgrader": {
     "checksum": "8915b75d94bc194ba0f4e52e475063b4",
     "grade": true,
     "grade_id": "cell-4a3cd727ccac7404",
     "locked": false,
     "points": 0,
     "schema_version": 1,
     "solution": true
    }
   },
   "source": [
    "* the main difference is that this method is not a recursive algorithm\n",
    "\n",
    "* Additionally:\n",
    "    * In this code, after being compared with the pivot value (median number), numbers are replicated in different list depending on their value. These new lists are put in the main list so that smaller and larger numbers are in different side of median values. \n",
    "    * In the code mentioned in the text book, the list where smaller and larger numbers are in different side of median values is obtained by swapping postions of numbers after being compared with the pivot."
   ]
  },
  {
   "cell_type": "markdown",
   "metadata": {
    "deletable": false,
    "editable": false,
    "nbgrader": {
     "checksum": "5853f10cab01212736d0e92ce408fa97",
     "grade": false,
     "grade_id": "cell-49bff57d4018e133",
     "locked": true,
     "schema_version": 1,
     "solution": false
    }
   },
   "source": [
    "## Question 3.\n",
    "What is the time complexity of this `randomized_qsort`? Time the algorithm on lists of various lengths, each list being a list of the first $n$ consecutive positive integers. Produce a graph with list lengths on the x axis and running time on the y axis. As always, don’t forget to time the algorithm several times for each list’s length and then average the results. "
   ]
  },
  {
   "cell_type": "code",
   "execution_count": 186,
   "metadata": {
    "deletable": false,
    "nbgrader": {
     "checksum": "a321a7fcecb9c9cce252ea2c6030d4ce",
     "grade": true,
     "grade_id": "cell-e0e1dac71ac7feb6",
     "locked": false,
     "points": 0,
     "schema_version": 1,
     "solution": true
    }
   },
   "outputs": [],
   "source": [
    "size = list(range(1,100,1))\n",
    "runtime1 = []\n",
    "for N in size:\n",
    "    subtime = []\n",
    "    for _ in range(10):\n",
    "        subtime.append(timeit.timeit(randomized_quicksort, number=1))\n",
    "    runtime1.append(sum(subtime)/len(subtime))\n",
    "# raise NotImplementedError()"
   ]
  },
  {
   "cell_type": "code",
   "execution_count": 187,
   "metadata": {},
   "outputs": [
    {
     "data": {
      "text/plain": [
       "[<matplotlib.lines.Line2D at 0x11fe30810>]"
      ]
     },
     "execution_count": 187,
     "metadata": {},
     "output_type": "execute_result"
    },
    {
     "data": {
      "image/png": "[encoded data removed]",
      "text/plain": [
       "<Figure size 432x288 with 1 Axes>"
      ]
     },
     "metadata": {
      "needs_background": "light"
     },
     "output_type": "display_data"
    }
   ],
   "source": [
    "import matplotlib.pyplot as plt\n",
    "plt.plot(size,runtime1)\n",
    "# len(runtime)"
   ]
  },
  {
   "cell_type": "markdown",
   "metadata": {
    "deletable": false,
    "editable": false,
    "nbgrader": {
     "checksum": "b8751f930d9dc208113425646ea7fea8",
     "grade": false,
     "grade_id": "cell-1e8309c07c2f2908",
     "locked": true,
     "schema_version": 1,
     "solution": false
    }
   },
   "source": [
    "## Question 4.\n",
    "\n",
    "### Question 4a.\n",
    "\n",
    "Change the `qsort()` function in a way that you **don’t** separate the items that are equal to the partition. \n"
   ]
  },
  {
   "cell_type": "code",
   "execution_count": 188,
   "metadata": {
    "deletable": false,
    "nbgrader": {
     "checksum": "797888f53fa36bcf0f9d891c4819d8e9",
     "grade": false,
     "grade_id": "cell-a9d1f063c0340b14",
     "locked": false,
     "schema_version": 1,
     "solution": true
    }
   },
   "outputs": [],
   "source": [
    "eps = 1e-16\n",
    "N = 10000\n",
    "locations = [0.0, 0.5, 1.0 - eps]\n",
    "def qsort(lst):\n",
    "    indices = [(0, len(lst))] #indice is a tuple of 2 elements\n",
    "\n",
    "    while indices: #while indice is not empty\n",
    "        (frm, to) = indices.pop() #assign from = 0 and to = len(lst)\n",
    "        if frm == to: #if from = to skip the following operations\n",
    "            continue\n",
    "\n",
    "        # Find the partition:\n",
    "        N = to - frm #N is the number of element in the list\n",
    "        inds = [frm + int(N * n) for n in locations] #inds is a list of values following this rule\n",
    "        values = [lst[ind] for ind in inds] #[a list of elements in the list whose indexes are in inds]\n",
    "        partition = median(*values) #partition is the median value of the list values\n",
    "\n",
    "        # Split into lists:\n",
    "#         remove partition value out of the list. \n",
    "#         Otherwise partition will be included in lower list and then inserted back to the sort list \n",
    "#         to be in the middle of lst[frm:to] (see line 35)\n",
    "          lst.remove(partition)\n",
    "        #after the removal, lst[frm:to] loses one element, so we need to adjust indcies in the below operation from 'to' to 'to-1'accodingly\n",
    "        lower = [a for a in lst[frm:to-1] if a <= partition] #split the list to 2 using the median threshold\n",
    "        upper = [a for a in lst[frm:to-1] if a > partition]\n",
    "\n",
    "        #count the frequence of the median value in the list\n",
    "\n",
    "\n",
    "        ind1 = frm + len(lower) #the ending index of list 1\n",
    "\n",
    "\n",
    "        # Push back into correct place:\n",
    "        lst[frm:ind1] = lower #first part having all value smaller than or equal to the median value\n",
    "        lst.insert(ind1,partition)\n",
    "        lst[ind1+1:to] = upper #the seconde part having all values larger the median value\n",
    "\n",
    "        # Enqueue other locations\n",
    "#         append indexes of the first and third part of the list in indices\n",
    "        indices.append((frm, ind1)) \n",
    "        indices.append((ind1+1, to))\n",
    "    return lst\n",
    "\n",
    "#     raise NotImplementedError()"
   ]
  },
  {
   "cell_type": "code",
   "execution_count": 189,
   "metadata": {
    "deletable": false,
    "editable": false,
    "nbgrader": {
     "checksum": "ce755b787f1b82629d627d2f8bea66a5",
     "grade": true,
     "grade_id": "cell-2c0cbd296d612f85",
     "locked": true,
     "points": 1,
     "schema_version": 1,
     "solution": false
    }
   },
   "outputs": [],
   "source": [
    "assert(qsort([4,2,1])==[1,2,4])\n",
    "assert(qsort([0])==[0])"
   ]
  },
  {
   "cell_type": "markdown",
   "metadata": {
    "deletable": false,
    "editable": false,
    "nbgrader": {
     "checksum": "3f5f9ca976fb636978e2bdfda98a5eeb",
     "grade": false,
     "grade_id": "cell-76883a453f020d72",
     "locked": true,
     "schema_version": 1,
     "solution": false
    }
   },
   "source": [
    "### Question 4b.\n",
    "\n",
    "Now time the algorithm on the same inputs you have used in question 3, adding one more line in the previous graph you have produced. "
   ]
  },
  {
   "cell_type": "code",
   "execution_count": 190,
   "metadata": {
    "deletable": false,
    "nbgrader": {
     "checksum": "33188fb282e53d117dfe275067ad3567",
     "grade": true,
     "grade_id": "cell-31ee807cec9ce8bf",
     "locked": false,
     "points": 0,
     "schema_version": 1,
     "solution": true
    }
   },
   "outputs": [
    {
     "data": {
      "text/plain": [
       "[<matplotlib.lines.Line2D at 0x11e37db90>]"
      ]
     },
     "execution_count": 190,
     "metadata": {},
     "output_type": "execute_result"
    },
    {
     "data": {
      "image/png": "[encoded data removed]",
      "text/plain": [
       "<Figure size 432x288 with 1 Axes>"
      ]
     },
     "metadata": {
      "needs_background": "light"
     },
     "output_type": "display_data"
    }
   ],
   "source": [
    "import matplotlib.pyplot as plt\n",
    "size = list(range(1,100,1))\n",
    "runtime2 = []\n",
    "for N in size:\n",
    "    subtime = []\n",
    "    for _ in range(10): #repeat every input size 10 times\n",
    "        subtime.append(timeit.timeit(randomized_quicksort, number=1))\n",
    "    runtime2.append(sum(subtime)/len(subtime))\n",
    "\n",
    "plt.plot(size,runtime1)\n",
    "plt.plot(size,runtime2)\n",
    "# raise NotImplementedError()\n",
    "# raise NotImplementedError()"
   ]
  },
  {
   "cell_type": "markdown",
   "metadata": {
    "deletable": false,
    "editable": false,
    "nbgrader": {
     "checksum": "991ee87c525d8fa29bd448aa80dbf243",
     "grade": false,
     "grade_id": "cell-b666e68e84dfce03",
     "locked": true,
     "schema_version": 1,
     "solution": false
    }
   },
   "source": [
    "## Question 5.\n",
    "\n",
    "### Question 5a.\n",
    "\n",
    "Remove the median-of-3 partitioning, and just use the first element in the array. "
   ]
  },
  {
   "cell_type": "code",
   "execution_count": 191,
   "metadata": {
    "deletable": false,
    "nbgrader": {
     "checksum": "90dbb100f881a2c9a61720a0753ca401",
     "grade": false,
     "grade_id": "cell-4daf36021c15eaf0",
     "locked": false,
     "schema_version": 1,
     "solution": true
    }
   },
   "outputs": [],
   "source": [
    "def qsort(lst):\n",
    "    indices = [(0, len(lst))] #indice is a tuple of 2 elements\n",
    "\n",
    "    while indices: #while indice is not empty\n",
    "        (frm, to) = indices.pop() #assign from = 0 and to = len(lst)\n",
    "        if frm == to: #if from = to skip to the following operations\n",
    "            continue\n",
    "\n",
    "\n",
    "        partition = lst[frm] #partition is the median value of the list values\n",
    "\n",
    "        # Split into lists:\n",
    "        lower = [a for a in lst[frm:to] if a < partition] #split the list to 2 using the median threshold\n",
    "        upper = [a for a in lst[frm:to] if a > partition]\n",
    "        #count the frequence of the median value in the list\n",
    "        counts = sum([1 for a in lst[frm:to] if a == partition]) \n",
    "\n",
    "        ind1 = frm + len(lower) #the ending index of list 1\n",
    "        ind2 = ind1 + counts #the ending index of the sublist of all median values (in line 48)\n",
    "\n",
    "        # Push back into correct place:\n",
    "        lst[frm:ind1] = lower #first part having all value smaller than the median value\n",
    "        lst[ind1:ind2] = [partition] * counts #the median value\n",
    "        lst[ind2:to] = upper #the third part of having all values larger the median value\n",
    "\n",
    "        # Enqueue other locations\n",
    "#         append indexes of the first and third part of the list in indices\n",
    "        indices.append((frm, ind1)) \n",
    "        indices.append((ind2, to))\n",
    "    return lst\n",
    "\n",
    "#     raise NotImplementedError()"
   ]
  },
  {
   "cell_type": "code",
   "execution_count": 192,
   "metadata": {
    "deletable": false,
    "editable": false,
    "nbgrader": {
     "checksum": "9d457eff304d19e031a8eabb4615ca3b",
     "grade": true,
     "grade_id": "cell-97473a9e0d12e745",
     "locked": true,
     "points": 1,
     "schema_version": 1,
     "solution": false
    }
   },
   "outputs": [],
   "source": [
    "assert(qsort([4,2,1])==[1,2,4])\n",
    "assert(qsort([0])==[0])"
   ]
  },
  {
   "cell_type": "markdown",
   "metadata": {
    "deletable": false,
    "editable": false,
    "nbgrader": {
     "checksum": "8f0166e7d0021886bb7176f35011a633",
     "grade": false,
     "grade_id": "cell-2ca71dd53b31262b",
     "locked": true,
     "schema_version": 1,
     "solution": false
    }
   },
   "source": [
    "### Question 5b.\n",
    "\n",
    "Does this change the running time of your algorithm? Justify your response with a graph. \n",
    "\n"
   ]
  },
  {
   "cell_type": "code",
   "execution_count": 193,
   "metadata": {
    "deletable": false,
    "nbgrader": {
     "checksum": "bd863db414089f9ead9906b3c2c34a15",
     "grade": true,
     "grade_id": "cell-1f3a6df29d324853",
     "locked": false,
     "points": 0,
     "schema_version": 1,
     "solution": true
    }
   },
   "outputs": [],
   "source": [
    "size = list(range(1,100,1))\n",
    "runtime3 = []\n",
    "for N in size:\n",
    "    subtime = []\n",
    "    for _ in range(10):\n",
    "        subtime.append(timeit.timeit(randomized_quicksort, number=1))\n",
    "    runtime3.append(sum(subtime)/len(subtime))\n",
    "# raise NotImplementedError()\n",
    "# raise NotImplementedError()"
   ]
  },
  {
   "cell_type": "code",
   "execution_count": 195,
   "metadata": {},
   "outputs": [
    {
     "data": {
      "text/plain": [
       "<matplotlib.legend.Legend at 0x11f875210>"
      ]
     },
     "execution_count": 195,
     "metadata": {},
     "output_type": "execute_result"
    },
    {
     "data": {
      "image/png": "[encoded data removed]",
      "text/plain": [
       "<Figure size 432x288 with 1 Axes>"
      ]
     },
     "metadata": {
      "needs_background": "light"
     },
     "output_type": "display_data"
    }
   ],
   "source": [
    "import matplotlib.pyplot as plt\n",
    "plt.plot(size,runtime1)\n",
    "plt.plot(size,runtime2)\n",
    "plt.plot(size,runtime3)\n",
    "plt.legend(['original code','does not separate values equal to patition','do not follow 3-median method'])"
   ]
  },
  {
   "cell_type": "markdown",
   "metadata": {
    "deletable": false,
    "editable": false,
    "nbgrader": {
     "checksum": "51af6d987694ab6231a6f4aa19f39164",
     "grade": false,
     "grade_id": "cell-67512d1d42af415f",
     "locked": true,
     "schema_version": 1,
     "solution": false
    }
   },
   "source": [
    "## Part B. Recursive quicksort. \n",
    "\n",
    "One main difference between the quicksort algorithms in Cormen et al. and the implementation in the code above is that quick sort (in the code in this notebook) is not recursive, while $QUICKSORT$ in Cormen et al. is. Given the limitation of Python so that it can only make 500 recursive calls, estimate the maximum size of the list that can be sorted by Python if a recursive quicksort is to be used. Explicitly state all assumptions you make in getting to an answer.\n"
   ]
  },
  {
   "cell_type": "markdown",
   "metadata": {
    "deletable": false,
    "nbgrader": {
     "checksum": "7be7bc411376ac8090621f3d68630c10",
     "grade": true,
     "grade_id": "cell-4af5aab4ad1a7225",
     "locked": false,
     "points": 0,
     "schema_version": 1,
     "solution": true
    }
   },
   "source": [
    "Given an input size of n, the number of splits(recursion) the recuresive quicksort has to call is lgn. To find the bound of n, we need to solve the equation: lgn<=500 -> n < 2^500"
   ]
  },
  {
   "cell_type": "code",
   "execution_count": null,
   "metadata": {},
   "outputs": [],
   "source": []
  }
 ],
 "metadata": {
  "kernelspec": {
   "display_name": "Python 3",
   "language": "python",
   "name": "python3"
  },
  "language_info": {
   "codemirror_mode": {
    "name": "ipython",
    "version": 3
   },
   "file_extension": ".py",
   "mimetype": "text/x-python",
   "name": "python",
   "nbconvert_exporter": "python",
   "pygments_lexer": "ipython3",
   "version": "3.7.4"
  }
 },
 "nbformat": 4,
 "nbformat_minor": 2
}
