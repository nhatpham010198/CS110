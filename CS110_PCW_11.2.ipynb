{
 "cells": [
  {
   "cell_type": "markdown",
   "metadata": {},
   "source": [
    "Before you turn this problem in, make sure everything runs as expected. First, **restart the kernel** (in the menubar, select Kernel$\\rightarrow$Restart) and then **run all cells** (in the menubar, select Cell$\\rightarrow$Run All).\n",
    "\n",
    "Make sure you fill in any place that says `YOUR CODE HERE` or \"YOUR ANSWER HERE\", as well as your name and collaborators below:"
   ]
  },
  {
   "cell_type": "code",
   "execution_count": null,
   "metadata": {},
   "outputs": [],
   "source": [
    "NAME = \"Nhat Pham\"\n",
    "COLLABORATORS = \"\""
   ]
  },
  {
   "cell_type": "markdown",
   "metadata": {},
   "source": [
    "---"
   ]
  },
  {
   "cell_type": "markdown",
   "metadata": {
    "deletable": false,
    "editable": false,
    "nbgrader": {
     "checksum": "d7cae628a3a7dfc685fb4a651b255e7f",
     "grade": false,
     "grade_id": "cell-7c653a07f1dcf31f",
     "locked": true,
     "schema_version": 1,
     "solution": false
    }
   },
   "source": [
    "# CS110 Pre-class Work 11.2\n",
    "\n",
    "## Part A.  Currency trading (Slightly simplified version of 15.3-6 from Cormen et al.)\n",
    "\n",
    "Imagine that you wish to exchange one currency for another. You realize that instead of directly exchanging one currency for another, you might be better off making a series of trades through other currencies, winding up with the currency you want.\n",
    "\n",
    "Suppose that you can trade n different currencies, numbered $1,2,… ,n$, where you start with currency 1 and wish to wind up with currency $n$. You are given, for each pair of currencies $i$ and $j$ , an exchange rate $r_{ij}$ , meaning that if you start with $d$ units of currency $i$ , you can trade for $dr_{ij}$ units of currency $j$. Note that the total number of trades allowed is limited to $n$.\n",
    "\n",
    "Assuming there is no commission, propose an algorithm (described in prose) to solve this problem using either a memoization or bottom-up strategy. **Note that we will be working on the Python implementation in class.**\n",
    "\n",
    "Click [here](https://drive.google.com/open?id=1L8Fjo1Xt8sltab-tz3m91eTuiE9LYWF7) for some example data."
   ]
  },
  {
   "cell_type": "markdown",
   "metadata": {
    "deletable": false,
    "nbgrader": {
     "checksum": "6a364d83fa9056b77c801ed198a4bb4b",
     "grade": true,
     "grade_id": "cell-3f8a8808c720baf2",
     "locked": false,
     "points": 0,
     "schema_version": 1,
     "solution": true
    }
   },
   "source": [
    "the currency rate table can translate to a network of nodes (currency) and edges (whose weight is the direct exchange rate between 2 node). So the problem is equivalent to finding a simple path of which the product of the weights of edges is largest. The simple path (a path passing a node only once) is included as an constraint because there is no point buying a currency then selling it for the currency we used to have.To store results computed during the bottom up process, a matrix n*n is created where c(i,j) record the largest currency to buy j using i. We number the currency we want to buy n and sell 1. For example, there are 5 provided currencies, and we want to buy Pound using USD, then USD is 1 and pound is 5. Other currencies take to any number between 1 and 5. Accordingly a matrix 5*5 is created to store the max exchange rate between 5 currencies\n",
    "\n",
    "* To avoid repeating subproblems, we need to fill in the max exchange rate in cells of which the difference of i and j is 1, then 2, 3, ,4\n",
    "* when |i-j| = 1, the largest exchange rates are the provided ones in the table as we have no intermediate node to insert between node i and j\n",
    "* When |i-j| = 2 (i.e i = 1, j = 3), we need to compare path 1-3 and (1-2)-(2-3). the max of these two is filled in c(1,3)\n",
    "* When |i-j| = 3 (i.e i = 1, j = 4), we need to compare more paths including 1-4,1-2-2-4, 1-3-3-4. We don need to consider path 1-2-3-4 as its result is included in 1-2-2-4 or 1-3-3-4 already. Because if 1-2-3 is better than 1-3, the product of 1-2 and 2-3 is filled in c(1,3) not the weight of edge 1-3.\n",
    "* When |i-j| = 4, (i=1 j = 5). This is the most important cell as it tells how much at most we can buy Pound using USD. The process is similar to smaller values of |i-j|. We compute the exchange rate of all intermediate paths and get the max out of such results to fill in c(i,j)"
   ]
  },
  {
   "cell_type": "markdown",
   "metadata": {
    "deletable": false,
    "editable": false,
    "nbgrader": {
     "checksum": "0f0c3ae16f851ad36fa786f2a5876c04",
     "grade": false,
     "grade_id": "cell-a98b3a35b99eff16",
     "locked": true,
     "schema_version": 1,
     "solution": false
    }
   },
   "source": [
    "## Part B - Money game (Solution)\n",
    "Consider a row of n coins of values $v_1, v_2,...,v_n$, **where $n$ is even**. We play a game against an opponent by alternating turns. In each turn, a player selects either the first or last coin from the row, removes it from the row permanently, and receives the value of the coin. Determine the maximum possible amount of money we can definitely win if we move first.\n",
    "\n",
    "For example, consider the game:\n",
    "\n",
    "\\$2, \\$10, \\$1, \\$5\n",
    "\n",
    "By moving first and playing optimally one can be guaranteed of \\$15. The first move is to take \\$5. This forces your opponent to take either \\$2 or \\$1, and then allows you to take \\$10. Assume that the opposing player also plays optimally (i.e., minimizing the gain of the first-move player.)\n",
    "\n",
    "As a hint, we will provide the recurrence for the solution to this problem. Suppose $c(i,j)$ is the maximum possible amount of money the first player can win for the row of coins of value $v_i, v){i+1},...,v_j$ (so to solve our problem, we need to compute $c(1,n)$. Then:\n",
    "\n",
    "$$c(i,j)=max[v_i+min(c(i+2,j), c(i+1,j-1)), v_j+min(c(i,j-2), c(i+1,j-1))]$$\n",
    "\n",
    "You are also encouraged to watch [this video](https://www.youtube.com/watch?v=KnP8_L13xW4&list=PLF_a-qBXTGFektoI6JUOTRL36JlvD04BR&index=5) if you need some more hints.\n",
    "\n",
    "## Question 1. \n",
    "Complete the following function to solve the game using a bottom-up strategy, assuming that the opposing player also plays optimally. \n"
   ]
  },
  {
   "cell_type": "code",
   "execution_count": 92,
   "metadata": {
    "deletable": false,
    "nbgrader": {
     "checksum": "e61cd25280229deedb59dc70bebca774",
     "grade": false,
     "grade_id": "cell-4014ae901b66304b",
     "locked": false,
     "schema_version": 1,
     "solution": true
    }
   },
   "outputs": [
    {
     "data": {
      "text/plain": [
       "15"
      ]
     },
     "execution_count": 92,
     "metadata": {},
     "output_type": "execute_result"
    }
   ],
   "source": [
    "def bottom_up_coin_game(A):\n",
    "    \"\"\"\n",
    "    Returns the maximum possible amount of money the first-move player can win,\n",
    "    given an array of coin values. The function solves this using a bottom-up \n",
    "    approach.\n",
    "    \n",
    "    Inputs:\n",
    "    - A: list of floats, values of the coins, of even length. \n",
    "    \n",
    "    Outputs:\n",
    "    - max_val: float, maximum possible amount of money that can be won by the first \n",
    "    player. max_val is None when the length of list A is odd.\n",
    "    \"\"\"\n",
    "    # YOUR CODE HERE\n",
    "    n = len(A) #len of the list\n",
    "    if n%2 == 1: # if the length is not even\n",
    "        return None\n",
    "    \n",
    "    if n == 0: #if len of is 0\n",
    "        return 0\n",
    "    \n",
    "    store = [[0 for _ in range(n)] for _ in range(n)] # creat a matrix to store computed result\n",
    "    for delta in range(n): #difference of the start and the end of the sublist (input list of subproblem)\n",
    "        for i in range(n-delta): #start of the sublist\n",
    "            j = i + delta  #end of the sublist\n",
    "            if delta <= 1: #if len of sublist is no greater than 1\n",
    "                store[i][j]= max(A[i:j+1])\n",
    "#                 print(i,j,store) #check the process\n",
    "            if delta > 1: #else\n",
    "                store[i][j] = max(A[i]+min(store[i+2][j], store[i+1][j-1]), \n",
    "                                  A[j]+min(store[i][j-2], store[i+1][j-1]))\n",
    "#                 apply the approach in the video, \n",
    "#                 note that results of subproblems now are stored in the array store\n",
    "#                 print(i,j,store) #check the process\n",
    "    return store[0][n-1]\n",
    "bottom_up_coin_game([2, 10, 1, 5])\n",
    "#     return maxsum\n",
    "#         raise NotImplementedError()"
   ]
  },
  {
   "cell_type": "code",
   "execution_count": 90,
   "metadata": {},
   "outputs": [],
   "source": [
    "def coin_game(A):\n",
    "    \"\"\"\n",
    "    Returns the maximum possible amount of money the first-move player can win,\n",
    "    given an array of coin values. The function solves this using a bottom-up \n",
    "    approach.\n",
    "    \n",
    "    Inputs:\n",
    "    - A: list of floats, values of the coins, of even length. \n",
    "    \n",
    "    Outputs:\n",
    "    - max_val: float, maximum possible amount of money that can be won by the first \n",
    "    player. max_val is None when the length of list A is odd.\n",
    "    \"\"\"\n",
    "    # YOUR CODE HERE\n",
    "    if len(A)%2 == 1:\n",
    "        return None\n",
    "    if len(A) == 0:\n",
    "        return(0)\n",
    "    if len(A) == 1:\n",
    "        return (A[0])\n",
    "    if len(A) == 2:\n",
    "        return (max(A[0],A[1]))\n",
    "    return(max(A[0]+min(coin_game(A[2:]), coin_game(A[1:-1])),\n",
    "                     A[-1]+min(coin_game(A[0:-2]), coin_game(A[1:-1]))))\n",
    "\n",
    "#     return maxsum\n",
    "#         raise NotImplementedError()"
   ]
  },
  {
   "cell_type": "code",
   "execution_count": 91,
   "metadata": {
    "deletable": false,
    "editable": false,
    "nbgrader": {
     "checksum": "64d503b9fb6026f9ee38108702bb7b78",
     "grade": true,
     "grade_id": "cell-f7a5d6c26e95dab2",
     "locked": true,
     "points": 1,
     "schema_version": 1,
     "solution": false
    }
   },
   "outputs": [],
   "source": [
    "import numpy as np\n",
    "assert(bottom_up_coin_game([2, 10, 1, 5]) == 15)  \n",
    "assert(bottom_up_coin_game([2, 10, 1, 5, 5]) is None)  \n",
    "assert(bottom_up_coin_game([]) == 0)  "
   ]
  },
  {
   "cell_type": "markdown",
   "metadata": {
    "deletable": false,
    "editable": false,
    "nbgrader": {
     "checksum": "1ddaa5e6e10fdbf969bafae2eb91e530",
     "grade": false,
     "grade_id": "cell-9f26726550c78cce",
     "locked": true,
     "schema_version": 1,
     "solution": false
    }
   },
   "source": [
    "## [Optional]  Question 2. \n",
    "\n",
    "Complete the function `print_strategy` to print out a solution to the coin game. Completing the helper function `extended_bottom_up_coin_game` to use in `print_strategy` is optional."
   ]
  },
  {
   "cell_type": "code",
   "execution_count": 31,
   "metadata": {
    "deletable": false,
    "nbgrader": {
     "checksum": "33605d2bb0815e4281897b4e5170655d",
     "grade": false,
     "grade_id": "cell-4583755bc245e1e9",
     "locked": false,
     "schema_version": 1,
     "solution": true
    }
   },
   "outputs": [],
   "source": [
    "def print_strategy(A):\n",
    "    \"\"\"\n",
    "    Print coins to pick for the first player\n",
    "    \n",
    "    Inputs:\n",
    "    - A: list of floats, values of the coins, of even length.\n",
    "    \n",
    "    Outputs:\n",
    "    - max_val: float, maximum possible amount of money that can be won by the first \n",
    "    player. \n",
    "        * max_val is None if the length of list A is odd.\n",
    "        * max_val is 0 if list A is empty (no coins)\n",
    "    - out: list of values of the coins that the first player picks in that\n",
    "    order.\n",
    "        * out is None if max_val is 0 or None.\n",
    "    \"\"\"\n",
    "    # YOUR CODE HERE\n",
    "    raise NotImplementedError()"
   ]
  },
  {
   "cell_type": "code",
   "execution_count": null,
   "metadata": {
    "deletable": false,
    "editable": false,
    "nbgrader": {
     "checksum": "0cbc17ad7f81722cda989375cae1d00b",
     "grade": true,
     "grade_id": "cell-75ce551c5185e374",
     "locked": true,
     "points": 0,
     "schema_version": 1,
     "solution": false
    }
   },
   "outputs": [],
   "source": [
    "assert(print_strategy([4,6,5,20,4,6,4,8])[0] == 40)\n",
    "assert(print_strategy([4,6,5,20,4,6,4,8])[1] == [8, 6, 6, 20])"
   ]
  }
 ],
 "metadata": {
  "kernelspec": {
   "display_name": "Python 3",
   "language": "python",
   "name": "python3"
  },
  "language_info": {
   "codemirror_mode": {
    "name": "ipython",
    "version": 3
   },
   "file_extension": ".py",
   "mimetype": "text/x-python",
   "name": "python",
   "nbconvert_exporter": "python",
   "pygments_lexer": "ipython3",
   "version": "3.7.4"
  }
 },
 "nbformat": 4,
 "nbformat_minor": 2
}
