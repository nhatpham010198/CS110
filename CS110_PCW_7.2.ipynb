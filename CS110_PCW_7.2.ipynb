{
 "cells": [
  {
   "cell_type": "markdown",
   "metadata": {},
   "source": [
    "Before you turn this problem in, make sure everything runs as expected. First, **restart the kernel** (in the menubar, select Kernel$\\rightarrow$Restart) and then **run all cells** (in the menubar, select Cell$\\rightarrow$Run All).\n",
    "\n",
    "Make sure you fill in any place that says `YOUR CODE HERE` or \"YOUR ANSWER HERE\", as well as your name and collaborators below:"
   ]
  },
  {
   "cell_type": "code",
   "execution_count": null,
   "metadata": {},
   "outputs": [],
   "source": [
    "NAME = \"Nhat\"\n",
    "COLLABORATORS = \"\""
   ]
  },
  {
   "cell_type": "markdown",
   "metadata": {},
   "source": [
    "---"
   ]
  },
  {
   "cell_type": "markdown",
   "metadata": {
    "deletable": false,
    "editable": false,
    "nbgrader": {
     "checksum": "2843e94073cad72d7107eb55b3f5d153",
     "grade": false,
     "grade_id": "cell-5b237cc13279b029",
     "locked": true,
     "schema_version": 1,
     "solution": false
    }
   },
   "source": [
    "# CS110 Pre-class Work 7.2\n",
    "\n",
    "## Part A. Direct Address Tables\n",
    "As the first step in setting up a crossword solving algorithm you need to create 2 direct address tables, one to store all the “up” answers-whether correct or not-and one to store all the “across” answers. Write python code to create a direct address table that allows you to:\n",
    "\n",
    "1. initialize N empty guesses\n",
    "2. set a guess for the i-th entry\n",
    "3. clear an incorrect guess for the i-th entry\n"
   ]
  },
  {
   "cell_type": "code",
   "execution_count": 56,
   "metadata": {
    "deletable": false,
    "nbgrader": {
     "checksum": "69e5d714c7245702b8732209ea0b2b42",
     "grade": true,
     "grade_id": "cell-d8d2e3c1b136cdb9",
     "locked": false,
     "points": 0,
     "schema_version": 1,
     "solution": true
    }
   },
   "outputs": [],
   "source": [
    "N = 100\n",
    "up = [[] for _ in range(N)]\n",
    "cross = [['cross'] for _ in range(N)]\n",
    "    \n",
    "def remove(table,i,ans):\n",
    "    table[i].remove(ans) \n",
    "def add(table,i,ans):\n",
    "    table[i].append(ans) \n",
    "    \n",
    "# raise NotImplementedError()"
   ]
  },
  {
   "cell_type": "markdown",
   "metadata": {
    "deletable": false,
    "editable": false,
    "nbgrader": {
     "checksum": "cdb562114e50f9ce1c97be3536b59efa",
     "grade": false,
     "grade_id": "cell-b27891b3ff16f730",
     "locked": true,
     "schema_version": 1,
     "solution": false
    }
   },
   "source": [
    "## Part B. Social Security\n",
    "\n",
    "Could we use a direct address table to store a country's entire set of social security numbers (aka id numbers)? Why or why not?\n"
   ]
  },
  {
   "cell_type": "markdown",
   "metadata": {
    "deletable": false,
    "nbgrader": {
     "checksum": "7b193e66cbea5bd9dac131a3d6adfefa",
     "grade": true,
     "grade_id": "cell-e751647d9af78c11",
     "locked": false,
     "points": 0,
     "schema_version": 1,
     "solution": true
    }
   },
   "source": [
    "Technically, we could. But this method is expensive when the universe has millions of values (too large)"
   ]
  },
  {
   "cell_type": "markdown",
   "metadata": {
    "deletable": false,
    "editable": false,
    "nbgrader": {
     "checksum": "35f74a7f882cabb36df7ee2c43ee51db",
     "grade": false,
     "grade_id": "cell-cba2028918eea1fd",
     "locked": true,
     "schema_version": 1,
     "solution": false
    }
   },
   "source": [
    "## Part C. Chained Hash-table\n",
    "\n",
    "## Question 1.\n",
    "\n",
    "Using the code in the cell below, complete the missing sections of code. You should copy and paste the code in an additional cell and fill in the code there."
   ]
  },
  {
   "cell_type": "code",
   "execution_count": 3,
   "metadata": {
    "deletable": false,
    "editable": false,
    "nbgrader": {
     "checksum": "48a17c00317da5b4474d91c6d8e6b920",
     "grade": false,
     "grade_id": "cell-9e41d88b035338f4",
     "locked": true,
     "schema_version": 1,
     "solution": false
    }
   },
   "outputs": [],
   "source": [
    "import random\n",
    "import string\n",
    "\n",
    "\n",
    "def randomword(length):\n",
    "    return ''.join(random.choice(string.ascii_lowercase) for i in range(length))\n",
    "\n",
    "\n",
    "def empty_hash_table(N):\n",
    "    return [[] for n in range(N)]\n",
    "\n",
    "\n",
    "def add_to_hash_table(hash_table, item, hash_function):\n",
    "    N = len(hash_table)\n",
    "    # Your code here\n",
    "    return hash_table\n",
    "\n",
    "\n",
    "def contains(hash_table, item, hash_function):\n",
    "    N = len(hash_table)\n",
    "    # Your code here\n",
    "    # return true if the item has already been stored in the hash_table\n",
    "\n",
    "\n",
    "def remove(hash_table, item, hash_function):\n",
    "    if not contains(hash_table, item, hash_function):\n",
    "        raise ValueError()\n",
    "    # Your code here\n",
    "    return hash_table\n",
    "\n",
    "\n",
    "def hash_str1(string):\n",
    "    ans = 0\n",
    "    for chr in string:\n",
    "        ans += ord(chr)\n",
    "    return ans\n",
    "\n",
    "# def hash_str2(string):\n",
    "#     ans = 0\n",
    "#     for chr in string:\n",
    "#         ans = ans ^ ord(chr)\n",
    "#     return ans\n",
    "def hash_str2(string):\n",
    "    ans=int(ord(string[0]))\n",
    "    for ix in range(1, len(string)):\n",
    "        ans = ans ^ ord(string[ix])   \n",
    "    return bin(ans)\n",
    "\n",
    "\n",
    "def hash_str3(string):\n",
    "    ans = 0\n",
    "    for chr in string:\n",
    "        ans = ans * 128 + ord(chr)\n",
    "    return ans\n",
    "\n",
    "\n",
    "def hash_str4(string):\n",
    "    random.seed(ord(string[0]))\n",
    "    return random.getrandbits(32)"
   ]
  },
  {
   "cell_type": "code",
   "execution_count": 15,
   "metadata": {},
   "outputs": [
    {
     "data": {
      "text/plain": [
       "'srswvicb'"
      ]
     },
     "execution_count": 15,
     "metadata": {},
     "output_type": "execute_result"
    }
   ],
   "source": [
    "def randomword(length):\n",
    "    return ''.join(random.choice(string.ascii_lowercase) for i in range(length))\n",
    "randomword(8)"
   ]
  },
  {
   "cell_type": "code",
   "execution_count": 78,
   "metadata": {},
   "outputs": [],
   "source": [
    "import random\n",
    "import string\n",
    "\n",
    "\n",
    "def randomword(length):\n",
    "    return ''.join(random.choice(string.ascii_lowercase) for i in range(length))\n",
    "\n",
    "\n",
    "def empty_hash_table(N):\n",
    "    return [[] for n in range(N)]\n",
    "\n",
    "\n",
    "def add_to_hash_table(hash_table, item, hash_function):\n",
    "    N = len(hash_table)\n",
    "    ind = hash_function(item)%N\n",
    "    hash_table[ind].append(item)\n",
    "    # Your code here\n",
    "    return hash_table\n",
    "\n",
    "\n",
    "def contains(hash_table, item, hash_function):\n",
    "    N = len(hash_table)\n",
    "    ind = hash_function(item)%N\n",
    "    if item in hash_table[ind]:\n",
    "            return(True)\n",
    "    \n",
    "    # Your code here\n",
    "    # return true if the item has already been stored in the hash_table\n",
    "\n",
    "\n",
    "def remove(hash_table, item, hash_function):\n",
    "    if not contains(hash_table, item, hash_function):\n",
    "        raise ValueError()\n",
    "    else:\n",
    "        N = N = len(hash_table)\n",
    "        ind = hash_function(item)%N\n",
    "        hash_table[ind].remove(item)\n",
    "        \n",
    "    return hash_table\n",
    "\n",
    "\n",
    "def hash_str1(string):\n",
    "    ans = 0\n",
    "    for chr in string:\n",
    "        ans += ord(chr)\n",
    "    return ans\n",
    "\n",
    "# def hash_str2(string):\n",
    "#     ans = 0\n",
    "#     for chr in string:\n",
    "#         ans = ans ^ ord(chr)\n",
    "#     return ans\n",
    "def hash_str2(string):\n",
    "    ans=int(ord(string[0]))\n",
    "    for ix in range(1, len(string)):\n",
    "        ans = ans ^ ord(string[ix]) \n",
    "    return int(bin(ans).split('b')[1])\n",
    "\n",
    "\n",
    "def hash_str3(string):\n",
    "    ans = 0\n",
    "    for chr in string:\n",
    "        ans = ans * 128 + ord(chr)\n",
    "    return ans\n",
    "\n",
    "\n",
    "def hash_str4(string):\n",
    "    random.seed(ord(string[0]))\n",
    "    return random.getrandbits(32)"
   ]
  },
  {
   "cell_type": "code",
   "execution_count": 22,
   "metadata": {
    "deletable": false,
    "nbgrader": {
     "checksum": "b39c1af2de8a4581d16a2d630fcaac74",
     "grade": true,
     "grade_id": "cell-1b6cc6df105c101f",
     "locked": false,
     "points": 0,
     "schema_version": 1,
     "solution": true
    }
   },
   "outputs": [
    {
     "ename": "NotImplementedError",
     "evalue": "",
     "output_type": "error",
     "traceback": [
      "\u001b[0;31m---------------------------------------------------------------------------\u001b[0m",
      "\u001b[0;31mNotImplementedError\u001b[0m                       Traceback (most recent call last)",
      "\u001b[0;32m<ipython-input-22-15b94d1fa268>\u001b[0m in \u001b[0;36m<module>\u001b[0;34m\u001b[0m\n\u001b[1;32m      1\u001b[0m \u001b[0;31m# YOUR CODE HERE\u001b[0m\u001b[0;34m\u001b[0m\u001b[0;34m\u001b[0m\u001b[0;34m\u001b[0m\u001b[0m\n\u001b[0;32m----> 2\u001b[0;31m \u001b[0;32mraise\u001b[0m \u001b[0mNotImplementedError\u001b[0m\u001b[0;34m(\u001b[0m\u001b[0;34m)\u001b[0m\u001b[0;34m\u001b[0m\u001b[0;34m\u001b[0m\u001b[0m\n\u001b[0m",
      "\u001b[0;31mNotImplementedError\u001b[0m: "
     ]
    }
   ],
   "source": [
    "# YOUR CODE HERE\n",
    "raise NotImplementedError()"
   ]
  },
  {
   "cell_type": "markdown",
   "metadata": {
    "deletable": false,
    "editable": false,
    "nbgrader": {
     "checksum": "d323c68243f6d1fe79cbf5ad01ee85ae",
     "grade": false,
     "grade_id": "cell-66fb150dd2e509a7",
     "locked": true,
     "schema_version": 1,
     "solution": false
    }
   },
   "source": [
    "## Question 2.\n",
    "Using the code, create 100,000 words of 10 characters each.\n"
   ]
  },
  {
   "cell_type": "code",
   "execution_count": 121,
   "metadata": {
    "deletable": false,
    "nbgrader": {
     "checksum": "b9d2f1faad23eecd6f3691968bb4e455",
     "grade": true,
     "grade_id": "cell-234b1e83c871ddc7",
     "locked": false,
     "points": 0,
     "schema_version": 1,
     "solution": true
    }
   },
   "outputs": [
    {
     "name": "stdout",
     "output_type": "stream",
     "text": [
      "['mgtfhheyci', 'xmqvwrctpg', 'nxtsgzzlmv', 'geovfskcwq', 'vycpkmbira', 'nglrcoqgto', 'blegwfxzot', 'fqvfbdafpv', 'ncnucejtam', 'keqmgzbugo', 'irmyelwpbe', 'xwtyxetndd', 'dejffnegrk', 'ypzhidlfvc', 'qjasbkgmmk', 'zmmnlrcfbl', 'xmyohjuhux', 'jdwxkgyzwv', 'whmjoyconi', 'cqjvkzprei', 'njnvtfjmvv', 'ttvwogmkgl', 'avlwjgvvfz', 'uivnxywhnl', 'vmadqrgaqj', 'vxfqzzogix', 'xnorqutyuy', 'tyjgxadzjc', 'sbbnjlruws', 'sjgydzmmzf', 'iokeeowwmn', 'rwfligiosw', 'mfpsupvfcr', 'hoqadkzpck', 'uxasvriuas', 'knifesbmbb', 'kqhryjfobw', 'ynhzgdpfii', 'vlcrgyrfwl', 'urcxvdxeee', 'rcbyqumflz', 'whttytfkyb', 'kzungjfxde', 'puqxahmvzd', 'zzhsoxztcf', 'fyoliksbsm', 'ajfeajzrjj', 'dpnzcblftv', 'kkvkzbmith', 'rewvayjxmn', 'qwyhfqnbgh', 'uifsdnasag', 'efujbifsyn', 'eaubqmocfs', 'hkneptclqf', 'hxspgwdntg', 'zfepxhfvif', 'uqvzqrchhq', 'hvwnmqrchi', 'kyskpgdzua', 'bnbkgbvjfi', 'viasqjgxld', 'flmewjqigo', 'balhetcmal', 'kmhreycaaf', 'ghktiycuan', 'dvncwxlpnr', 'myruikwlzd', 'iqhcbhiktd', 'ijtthgovoq', 'atxicymdxa', 'jpyzwonzyk', 'qhtwrdjmyg', 'csioxpktcw', 'abscuengnv', 'vssaadzkgg', 'vudanjfeyw', 'jfwndjfynm', 'udciqjixfy', 'ixdbxtcipm', 'ejtpgyqjoi', 'qiufojegkq', 'ezqhtltqch', 'rnzesakxzx', 'mszcancnod', 'cagcyhjgde', 'xiwjfrvugc', 'tdkagjmkqb', 'ouiprtlgle', 'bwkwrvhgzz', 'uqtnwpftlr', 'fxqzrjaats', 'leenbcrkvr', 'jlfrkwywdx', 'rjbvkngufb', 'fucpmnrrml', 'sumidgylec', 'ivdalmkshs', 'dtvjineeve', 'jwvzyarqri']\n"
     ]
    }
   ],
   "source": [
    "wrd_list = [randomword(10) for _ in range(100000)]\n",
    "print(wrd_list[:100])\n",
    "# raise NotImplementedError()"
   ]
  },
  {
   "cell_type": "markdown",
   "metadata": {
    "deletable": false,
    "editable": false,
    "nbgrader": {
     "checksum": "190e7fdc00fc311f5ff32a390fff1ca4",
     "grade": false,
     "grade_id": "cell-2fbadca52cec7230",
     "locked": true,
     "schema_version": 1,
     "solution": false
    }
   },
   "source": [
    "## Question 3.\n",
    "\n",
    "Create four chained hash-tables with 5000 slots."
   ]
  },
  {
   "cell_type": "code",
   "execution_count": 122,
   "metadata": {
    "deletable": false,
    "nbgrader": {
     "checksum": "0d1473300ae336ceb57d11687ab3ec0a",
     "grade": true,
     "grade_id": "cell-2dabefc41493ec16",
     "locked": false,
     "points": 0,
     "schema_version": 1,
     "solution": true
    }
   },
   "outputs": [],
   "source": [
    "hash_table1 = empty_hash_table(5000)\n",
    "hash_table2 = empty_hash_table(5000)\n",
    "hash_table3 = empty_hash_table(5000)\n",
    "hash_table4 = empty_hash_table(5000)\n",
    "# raise NotImplementedError()"
   ]
  },
  {
   "cell_type": "markdown",
   "metadata": {
    "deletable": false,
    "editable": false,
    "nbgrader": {
     "checksum": "c3d147917ae237a6dc75eddab48dbaa6",
     "grade": false,
     "grade_id": "cell-cc2e6d00330e691e",
     "locked": true,
     "schema_version": 1,
     "solution": false
    }
   },
   "source": [
    "## Question 4.\n",
    "\n",
    "Store all the words in each chained hash table using each of the different hash functions."
   ]
  },
  {
   "cell_type": "code",
   "execution_count": 123,
   "metadata": {
    "deletable": false,
    "nbgrader": {
     "checksum": "af209dceb17bf5f8d9fadf0808855f79",
     "grade": true,
     "grade_id": "cell-8a08ade8d45590a7",
     "locked": false,
     "points": 0,
     "schema_version": 1,
     "solution": true
    }
   },
   "outputs": [],
   "source": [
    "for item in wrd_list:\n",
    "    add_to_hash_table(hash_table1, item, hash_str1)\n",
    "    add_to_hash_table(hash_table2, item, hash_str2)\n",
    "    add_to_hash_table(hash_table3, item, hash_str3)\n",
    "    add_to_hash_table(hash_table4, item, hash_str4)\n",
    "    \n",
    "# raise NotImplementedError()"
   ]
  },
  {
   "cell_type": "markdown",
   "metadata": {
    "deletable": false,
    "editable": false,
    "nbgrader": {
     "checksum": "858437d142a66b825fb0bebdb1c4d9fe",
     "grade": false,
     "grade_id": "cell-da2c8b42618fbde4",
     "locked": true,
     "schema_version": 1,
     "solution": false
    }
   },
   "source": [
    "## Question 5.\n",
    "\n",
    "Measure the number of collisions for each hash function."
   ]
  },
  {
   "cell_type": "code",
   "execution_count": 179,
   "metadata": {
    "deletable": false,
    "nbgrader": {
     "checksum": "156f57bc1c6c1a3e10ca1804aa205099",
     "grade": true,
     "grade_id": "cell-a968f9e14a0416c4",
     "locked": false,
     "points": 0,
     "schema_version": 1,
     "solution": true
    },
    "scrolled": false
   },
   "outputs": [],
   "source": [
    "def collision(hashtable):\n",
    "    col = 0\n",
    "    for i in hashtable:\n",
    "        if len(i) > 0:\n",
    "            col += len(i) - 1\n",
    "    return(col)\n",
    "\n",
    "# raise NotImplementedError()"
   ]
  },
  {
   "cell_type": "code",
   "execution_count": 180,
   "metadata": {},
   "outputs": [
    {
     "data": {
      "text/plain": [
       "99822"
      ]
     },
     "execution_count": 180,
     "metadata": {},
     "output_type": "execute_result"
    }
   ],
   "source": [
    "collision(hash_table1)"
   ]
  },
  {
   "cell_type": "markdown",
   "metadata": {
    "deletable": false,
    "editable": false,
    "nbgrader": {
     "checksum": "ef47cabb10897284ca375490003e6b3d",
     "grade": false,
     "grade_id": "cell-435ba1cfb2d80447",
     "locked": true,
     "schema_version": 1,
     "solution": false
    }
   },
   "source": [
    "## Question 6.\n",
    "\n",
    "For each of the hash functions, how many elements are in a bucket on average (if it is not empty)?\n"
   ]
  },
  {
   "cell_type": "code",
   "execution_count": 192,
   "metadata": {
    "deletable": false,
    "nbgrader": {
     "checksum": "9f77d346c6e5ffbfb92ac0707c3c1d72",
     "grade": true,
     "grade_id": "cell-b4052afa2ee7c702",
     "locked": false,
     "points": 0,
     "schema_version": 1,
     "solution": true
    }
   },
   "outputs": [
    {
     "name": "stdout",
     "output_type": "stream",
     "text": [
      "561.7977528089888\n",
      "1030.9278350515465\n",
      "57.75895263765884\n",
      "76.62835249042146\n",
      "None None None None\n"
     ]
    }
   ],
   "source": [
    "non_empty = []\n",
    "def ave(hash_table):\n",
    "    for key in hash_table:\n",
    "        if len(key) > 0:\n",
    "            non_empty.append(len(key))\n",
    "\n",
    "    print(sum(non_empty)/len(non_empty))\n",
    "print(ave(hash_table1),ave(hash_table2),ave(hash_table3),ave(hash_table4))\n",
    "# raise NotImplementedError()"
   ]
  },
  {
   "cell_type": "markdown",
   "metadata": {
    "deletable": false,
    "editable": false,
    "nbgrader": {
     "checksum": "aaeb9bd55b7a86f8bc8079cbb7f8bca4",
     "grade": false,
     "grade_id": "cell-b86aef4dd22c236c",
     "locked": true,
     "schema_version": 1,
     "solution": false
    }
   },
   "source": [
    "## Question 7.\n",
    "\n",
    "Time how long it takes to find elements that are in each hash table.\n"
   ]
  },
  {
   "cell_type": "code",
   "execution_count": 159,
   "metadata": {
    "deletable": false,
    "nbgrader": {
     "checksum": "23927c46b8067f49ef10e9b4183f7680",
     "grade": true,
     "grade_id": "cell-0605f7dec7128414",
     "locked": false,
     "points": 0,
     "schema_version": 1,
     "solution": true
    }
   },
   "outputs": [],
   "source": [
    "import time\n",
    "def find(item):\n",
    "    time_ = []\n",
    "    #find item in hash_table1\n",
    "    start = time.time()\n",
    "    contains(hash_table1, item, hash_str1)\n",
    "    end = time.time()\n",
    "    time_.append(end-start)\n",
    "    \n",
    "#     find item in hash_table2\n",
    "    start = time.time()\n",
    "    contains(hash_table2, item, hash_str2)\n",
    "    end = time.time()\n",
    "    time_.append(end-start)\n",
    "    \n",
    "#     find item in hash_table3\n",
    "    start = time.time()\n",
    "    contains(hash_table3, item, hash_str3)\n",
    "    end = time.time()\n",
    "    time_.append(end-start)\n",
    "    \n",
    "#     find item in hash_table4\n",
    "    start = time.time()\n",
    "    contains(hash_table4, item, hash_str4)\n",
    "    end = time.time()\n",
    "    time_.append(end-start)\n",
    "    \n",
    "\n",
    "    print('finding time in hash_table1 is', time_[0])\n",
    "    print('finding time in hash_table2 is', time_[1])\n",
    "    print('finding time in hash_table3 is', time_[2])\n",
    "    print('finding time in hash_table4 is', time_[3])\n",
    "    return(time_)\n",
    "    \n",
    "# raise NotImplementedError()"
   ]
  },
  {
   "cell_type": "code",
   "execution_count": 166,
   "metadata": {},
   "outputs": [
    {
     "name": "stdout",
     "output_type": "stream",
     "text": [
      "finding time in hash_table1 is 1.0013580322265625e-05\n",
      "finding time in hash_table2 is 2.5033950805664062e-05\n",
      "finding time in hash_table3 is 8.106231689453125e-06\n",
      "finding time in hash_table4 is 2.09808349609375e-05\n"
     ]
    },
    {
     "data": {
      "text/plain": [
       "[1.0013580322265625e-05,\n",
       " 2.5033950805664062e-05,\n",
       " 8.106231689453125e-06,\n",
       " 2.09808349609375e-05]"
      ]
     },
     "execution_count": 166,
     "metadata": {},
     "output_type": "execute_result"
    }
   ],
   "source": [
    "find(wrd_list[2])"
   ]
  },
  {
   "cell_type": "markdown",
   "metadata": {
    "deletable": false,
    "editable": false,
    "nbgrader": {
     "checksum": "b051093ca9a2faf1658679380bf29033",
     "grade": false,
     "grade_id": "cell-75db2c2e62cec090",
     "locked": true,
     "schema_version": 1,
     "solution": false
    }
   },
   "source": [
    "## Question 8.\n",
    "For each hash table, time how long it takes to find 10,000 elements that have not been stored."
   ]
  },
  {
   "cell_type": "code",
   "execution_count": 176,
   "metadata": {
    "deletable": false,
    "nbgrader": {
     "checksum": "99b2fa8c88000c2143cb00fac1f6aa5f",
     "grade": true,
     "grade_id": "cell-b846b45e1b98ae59",
     "locked": false,
     "points": 0,
     "schema_version": 1,
     "solution": true
    }
   },
   "outputs": [],
   "source": [
    "import time\n",
    "#create a list of 10000 words not stored in wrd_list\n",
    "unsorted_list = []\n",
    "while len(unsorted_list) < 10000:\n",
    "    a = randomword(10)\n",
    "    if a not in wrd_list:\n",
    "        unsorted_list.append(a)\n",
    "\n",
    "def find_10000(unsorted_list):\n",
    "    time1_ = []\n",
    "    time2_ = []\n",
    "    time3_ = []\n",
    "    time4_ = []\n",
    "    for item in unsorted_list:\n",
    "    #     find item in hash_table1\n",
    "\n",
    "        start = time.time()\n",
    "        contains(hash_table1, item, hash_str1) #find item in hash_table 1\n",
    "        end = time.time()\n",
    "        time1_.append(end-start)\n",
    "\n",
    "    #     find item in hash_table2\n",
    "        start = time.time()\n",
    "        contains(hash_table2, item, hash_str2)\n",
    "        end = time.time()\n",
    "        time2_.append(end-start)\n",
    "\n",
    "    #     find item in hash_table3\n",
    "        start = time.time()\n",
    "        contains(hash_table3, item, hash_str3)\n",
    "        end = time.time()\n",
    "        time3_.append(end-start)\n",
    "\n",
    "    #     find item in hash_table4\n",
    "        start = time.time()\n",
    "        contains(hash_table4, item, hash_str4)\n",
    "        end = time.time()\n",
    "        time4_.append(end-start)\n",
    "\n",
    "    print('finding 10000 unstotred items in hash_table1 is', sum(time1_))\n",
    "    print('finding 10000 unstotred items in hash_table2 is', sum(time2_))\n",
    "    print('finding 10000 unstotred items in hash_table3 is', sum(time3_))\n",
    "    print('finding 10000 unstotred items in hash_table4 is', sum(time4_))\n",
    "#     return(sum(time1_),sum(time2_),sum(time3_),sum(time4_))\n",
    "    \n",
    "# raise NotImplementedError()\n",
    "# raise NotImplementedError()"
   ]
  },
  {
   "cell_type": "code",
   "execution_count": 177,
   "metadata": {},
   "outputs": [
    {
     "name": "stdout",
     "output_type": "stream",
     "text": [
      "finding 10000 unstotred items in hash_table1 is 0.760260820388794\n",
      "finding 10000 unstotred items in hash_table2 is 3.0732386112213135\n",
      "finding 10000 unstotred items in hash_table3 is 0.07007169723510742\n",
      "finding 10000 unstotred items in hash_table4 is 2.211371660232544\n"
     ]
    }
   ],
   "source": [
    "find_10000(unsorted_list)"
   ]
  },
  {
   "cell_type": "code",
   "execution_count": null,
   "metadata": {},
   "outputs": [],
   "source": []
  }
 ],
 "metadata": {
  "kernelspec": {
   "display_name": "Python 3",
   "language": "python",
   "name": "python3"
  },
  "language_info": {
   "codemirror_mode": {
    "name": "ipython",
    "version": 3
   },
   "file_extension": ".py",
   "mimetype": "text/x-python",
   "name": "python",
   "nbconvert_exporter": "python",
   "pygments_lexer": "ipython3",
   "version": "3.7.4"
  }
 },
 "nbformat": 4,
 "nbformat_minor": 2
}
