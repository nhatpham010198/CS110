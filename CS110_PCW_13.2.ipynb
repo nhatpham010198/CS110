{
 "cells": [
  {
   "cell_type": "markdown",
   "metadata": {},
   "source": [
    "Before you turn this problem in, make sure everything runs as expected. First, **restart the kernel** (in the menubar, select Kernel$\\rightarrow$Restart) and then **run all cells** (in the menubar, select Cell$\\rightarrow$Run All).\n",
    "\n",
    "Make sure you fill in any place that says `YOUR CODE HERE` or \"YOUR ANSWER HERE\", as well as your name and collaborators below:"
   ]
  },
  {
   "cell_type": "code",
   "execution_count": null,
   "metadata": {},
   "outputs": [],
   "source": [
    "NAME = \"Nhat Pham\"\n",
    "COLLABORATORS = \"\""
   ]
  },
  {
   "cell_type": "markdown",
   "metadata": {},
   "source": [
    "---"
   ]
  },
  {
   "cell_type": "markdown",
   "metadata": {
    "deletable": false,
    "editable": false,
    "nbgrader": {
     "checksum": "0f21ce4c9e01aa6a231ae85c9319acf3",
     "grade": false,
     "grade_id": "cell-f49515decdd20fa1",
     "locked": true,
     "schema_version": 1,
     "solution": false
    }
   },
   "source": [
    "# CS110 Pre-class Work 12.1\n",
    "\n",
    "## Question 1.\n",
    "Define the `enqueue(self, x)` and `dequeue(self)` methods of the class `Queue` below, by modifying the cell. You do not need to include the error checking for underflow and overflow. You can follow the pseudo-codes on p.235, Cormen et al. to complete this task."
   ]
  },
  {
   "cell_type": "code",
   "execution_count": 135,
   "metadata": {
    "deletable": false,
    "nbgrader": {
     "checksum": "7e29f9d49b8f1ac6d8a416278c338aaa",
     "grade": false,
     "grade_id": "cell-ebbe229b0421e86e",
     "locked": false,
     "schema_version": 1,
     "solution": true
    }
   },
   "outputs": [],
   "source": [
    "class Queue(object):\n",
    "    def __init__(self, length):\n",
    "        self.length = length\n",
    "        self.head = 1\n",
    "        self.tail = 1\n",
    "        self.q = {}\n",
    "        for i in range(1, self.length+1):\n",
    "            self.q[i] = None\n",
    "    def enqueue(self, x):\n",
    "        self.q[self.tail] = x\n",
    "#         self.tail = x\n",
    "        if self.tail == self.length:\n",
    "            self.tail = 1\n",
    "        else:\n",
    "            self.tail += 1\n",
    "    def dequeue(self):\n",
    "        x = self.q[self.head]\n",
    "        if self.head == self.length:\n",
    "            self.head = 1\n",
    "        else:\n",
    "            self.head += 1\n",
    "        return x\n",
    "        \n",
    "    # YOUR CODE HERE\n",
    "#     raise NotImplementedError()"
   ]
  },
  {
   "cell_type": "code",
   "execution_count": 136,
   "metadata": {},
   "outputs": [
    {
     "name": "stdout",
     "output_type": "stream",
     "text": [
      "{1: None, 2: None, 3: None, 4: None, 5: None, 6: None, 7: None, 8: None}\n"
     ]
    },
    {
     "data": {
      "text/plain": [
       "False"
      ]
     },
     "execution_count": 136,
     "metadata": {},
     "output_type": "execute_result"
    }
   ],
   "source": [
    "a = Queue(8)\n",
    "print(a.q)\n",
    "a == None"
   ]
  },
  {
   "cell_type": "markdown",
   "metadata": {
    "deletable": false,
    "editable": false,
    "nbgrader": {
     "checksum": "70c402b90b1c8213eaf69a116c0a3c45",
     "grade": false,
     "grade_id": "cell-9e685a1fdf0e1bf6",
     "locked": true,
     "schema_version": 1,
     "solution": false
    }
   },
   "source": [
    "## Question 2. \n",
    "\n",
    "Below, the first cell is a working code for two classes, `Node` and `Graph` that can be used to represent undirected or directed graphs. Use these two classes to complete the function `bfs` that implements the breath-first search algorithm in the second cell."
   ]
  },
  {
   "cell_type": "code",
   "execution_count": 137,
   "metadata": {
    "deletable": false,
    "editable": false,
    "nbgrader": {
     "checksum": "67f0f9b0f8b0039c23ed185490e394fb",
     "grade": false,
     "grade_id": "cell-2dfede3b8a3adb96",
     "locked": true,
     "schema_version": 1,
     "solution": false
    }
   },
   "outputs": [
    {
     "name": "stdout",
     "output_type": "stream",
     "text": [
      "r: [s v] color: W dist: inf pi: Nil,\n",
      "s: [r w] color: W dist: inf pi: Nil,\n",
      "t: [w x u] color: W dist: inf pi: Nil,\n",
      "u: [t x y] color: W dist: inf pi: Nil,\n",
      "v: [r] color: W dist: inf pi: Nil,\n",
      "w: [s t x] color: W dist: inf pi: Nil,\n",
      "x: [w t u y] color: W dist: inf pi: Nil,\n",
      "y: [u x] color: W dist: inf pi: Nil,\n",
      "\n"
     ]
    }
   ],
   "source": [
    "class Node: \n",
    "    \n",
    "    BLACK = 'B'\n",
    "    GRAY = 'G'\n",
    "    WHITE = 'W'\n",
    "    \n",
    "    def __init__(self, name, adj_list=None, weighted_adj_list=None): \n",
    "        self.name = name\n",
    "        self.color = Node.WHITE\n",
    "        self.pi = None\n",
    "        self.dist = float('inf')\n",
    "        self.adj_list = adj_list\n",
    "        if not adj_list: \n",
    "            self.adj_list = []\n",
    "        \n",
    "    def add_edge(self, node): \n",
    "        if node.name not in self.adj_list: \n",
    "            self.adj_list.append(node.name)\n",
    "        \n",
    "    def remove_edge(self, node): \n",
    "        self.adj_list.remove(node.name)\n",
    "        \n",
    "    def to_string(self): \n",
    "        res = self.name + ': [' + ' '.join(self.adj_list) + '] color: ' + self.color + ' dist: ' + str(self.dist)\n",
    "        if not self.pi:\n",
    "            res += ' pi: Nil'\n",
    "        else: \n",
    "            res += ' pi: ' + self.pi\n",
    "        return res\n",
    "\n",
    "class Graph: \n",
    "    \n",
    "    def __init__(self, nodes={}): \n",
    "        self.nodes = nodes\n",
    "        \n",
    "    def add_node(self,node): \n",
    "        self.nodes[node.name] = node\n",
    "        \n",
    "    def add_edge(self,n1,n2): \n",
    "        self.nodes[n1].add_edge(self.nodes[n2])\n",
    "        \n",
    "    def remove_edge(self, n1, n2): \n",
    "        self.nodes[n1].remove_edge(self.nodes[n2])\n",
    "        \n",
    "    def to_string(self): \n",
    "        res = \"\"\n",
    "        for n in self.nodes.keys(): \n",
    "            res += self.nodes[n].to_string() + \",\\n\"\n",
    "        return res\n",
    "      \n",
    "g = Graph({})\n",
    "g.add_node(Node('r', ['s','v']))\n",
    "g.add_node(Node('s', ['r','w']))\n",
    "g.add_node(Node('t', ['w','x','u']))\n",
    "g.add_node(Node('u', ['t','x','y']))\n",
    "g.add_node(Node('v', ['r']))\n",
    "g.add_node(Node('w', ['s','t','x']))\n",
    "g.add_node(Node('x', ['w','t','u','y']))\n",
    "g.add_node(Node('y', ['u','x']))\n",
    "\n",
    "print(g.to_string())"
   ]
  },
  {
   "cell_type": "code",
   "execution_count": 144,
   "metadata": {
    "deletable": false,
    "nbgrader": {
     "checksum": "760f180f167347b70d63a81bd97bdc00",
     "grade": false,
     "grade_id": "cell-79459bfd60700881",
     "locked": false,
     "schema_version": 1,
     "solution": true
    }
   },
   "outputs": [],
   "source": [
    "def bfs(g,s):\n",
    "    \"\"\"\n",
    "    Breath-first search\n",
    "    \n",
    "    Inputs:\n",
    "    - G: a graph (instance of Graph)\n",
    "    - s: string, name of the source vertex which is an instance of Node\n",
    "    \n",
    "    Output:\n",
    "    - info: string, what is returned by G.to_string()\n",
    "    \"\"\"\n",
    "#     for node in G.nodes and Node(node).name != str(s):\n",
    "#         Node(node)\n",
    "    \n",
    "    g.nodes[s].color = Node.GRAY\n",
    "    g.nodes[s].dist = 0\n",
    "    g.nodes[s].pi = None\n",
    "    Q = Queue(8)\n",
    "    Q.enqueue(s)\n",
    "\n",
    "    while Q.head != Q.tail:\n",
    "\n",
    "        u = Q.dequeue()\n",
    "\n",
    "        for subnode in g.nodes[u].adj_list:\n",
    "            if g.nodes[subnode].color == Node.WHITE:\n",
    "                g.nodes[subnode].color = Node.GRAY\n",
    "                g.nodes[subnode].dist = g.nodes[u].dist + 1\n",
    "                g.nodes[subnode].pi = u\n",
    "                Q.enqueue(subnode)\n",
    "        g.nodes[u].color = Node.BLACK\n",
    "    return(g.to_string())\n",
    "#     raise NotImplementedError()\n",
    "\n"
   ]
  },
  {
   "cell_type": "code",
   "execution_count": 121,
   "metadata": {},
   "outputs": [
    {
     "data": {
      "text/plain": [
       "['2', '4']"
      ]
     },
     "execution_count": 121,
     "metadata": {},
     "output_type": "execute_result"
    }
   ],
   "source": [
    "g.nodes['1'].adj_list"
   ]
  },
  {
   "cell_type": "markdown",
   "metadata": {
    "deletable": false,
    "editable": false,
    "nbgrader": {
     "checksum": "39083ef10d9964de5fedd745ae0216a1",
     "grade": false,
     "grade_id": "cell-df5e25eea74070b9",
     "locked": true,
     "schema_version": 1,
     "solution": false
    }
   },
   "source": [
    "## Question 3.\n",
    "\n",
    "Solve exercise 22.2-1 in Cormen et al. by following these steps:\n",
    "1. Build a graph G that represents the graph in Figure 22.2-(a). The names of the vertices are noted in each vertex (1, 2, 3, 4, 5, and 6)\n",
    "2. Print the info returned by `bfs`"
   ]
  },
  {
   "cell_type": "code",
   "execution_count": 145,
   "metadata": {
    "deletable": false,
    "nbgrader": {
     "checksum": "b0d6e287db54e8c0cc714362ffdb21ef",
     "grade": true,
     "grade_id": "cell-692a09a756ecaa40",
     "locked": false,
     "points": 0,
     "schema_version": 1,
     "solution": true
    }
   },
   "outputs": [
    {
     "name": "stdout",
     "output_type": "stream",
     "text": [
      "1: [2 4] color: W dist: inf pi: Nil,\n",
      "2: [5] color: B dist: 3 pi: 4,\n",
      "4: [2] color: B dist: 2 pi: 5,\n",
      "5: [4] color: B dist: 1 pi: 3,\n",
      "3: [5 6] color: B dist: 0 pi: Nil,\n",
      "6: [6] color: B dist: 1 pi: 3,\n",
      "\n"
     ]
    }
   ],
   "source": [
    "g = Graph({})\n",
    "g.add_node(Node('1', ['2','4']))\n",
    "g.add_node(Node('2', ['5']))\n",
    "g.add_node(Node('4', ['2']))\n",
    "g.add_node(Node('5', ['4']))\n",
    "g.add_node(Node('3', ['5','6']))\n",
    "g.add_node(Node('6', ['6']))\n",
    "print(bfs(g,'3'))"
   ]
  },
  {
   "cell_type": "markdown",
   "metadata": {
    "deletable": false,
    "editable": false,
    "nbgrader": {
     "checksum": "e383fc84bbdac7b0911f3d6f17c80a34",
     "grade": false,
     "grade_id": "cell-71c8b5ed8faa8e34",
     "locked": true,
     "schema_version": 1,
     "solution": false
    }
   },
   "source": [
    "## Question 4.\n",
    "Solve exercise 22.2-2 in Cormen et al. by following these steps:\n",
    "1. Build a graph G that represents the graph in Figure 22.3-(a). Note that the names of the vertices are given as `r`, `x`, `t`, `u`, etc.\n",
    "2. Print the info returned by `bfs`"
   ]
  },
  {
   "cell_type": "code",
   "execution_count": 146,
   "metadata": {
    "deletable": false,
    "nbgrader": {
     "checksum": "c977a39ba030c39d3fba8cc1ca0d5dfe",
     "grade": true,
     "grade_id": "cell-eccd2dcb9f2eec18",
     "locked": false,
     "points": 0,
     "schema_version": 1,
     "solution": true
    }
   },
   "outputs": [
    {
     "name": "stdout",
     "output_type": "stream",
     "text": [
      "v: [r] color: B dist: 2 pi: r,\n",
      "r: [s v] color: B dist: 1 pi: s,\n",
      "s: [r w] color: B dist: 0 pi: Nil,\n",
      "w: [s t x] color: B dist: 1 pi: s,\n",
      "t: [w x u] color: B dist: 2 pi: w,\n",
      "x: [w t u] color: B dist: 2 pi: w,\n",
      "u: [x y t] color: B dist: 3 pi: t,\n",
      "y: [x u] color: B dist: 4 pi: u,\n",
      "\n"
     ]
    }
   ],
   "source": [
    "g = Graph({})\n",
    "g.add_node(Node('v', ['r']))\n",
    "g.add_node(Node('r', ['s','v']))\n",
    "g.add_node(Node('s', ['r','w']))\n",
    "g.add_node(Node('w', ['s','t','x']))\n",
    "g.add_node(Node('t', ['w','x','u']))\n",
    "g.add_node(Node('x', ['w','t','u']))\n",
    "g.add_node(Node('u', ['x','y','t']))\n",
    "g.add_node(Node('y', ['x','u']))\n",
    "\n",
    "print(bfs(g,'s')  )"
   ]
  },
  {
   "cell_type": "markdown",
   "metadata": {
    "deletable": false,
    "editable": false,
    "nbgrader": {
     "checksum": "5a09e4cae5de3aec672714362e8b27d2",
     "grade": false,
     "grade_id": "cell-aae6917929e609dd",
     "locked": true,
     "schema_version": 1,
     "solution": false
    }
   },
   "source": [
    "## Question 5.\n",
    "Is the shortest path problem in an undirected graph suitable for a dynamic programming solution? Why or why not?\n"
   ]
  },
  {
   "cell_type": "markdown",
   "metadata": {
    "deletable": false,
    "nbgrader": {
     "checksum": "4ce458227450628bf1c354006e74dc8d",
     "grade": true,
     "grade_id": "cell-e0446af225564643",
     "locked": false,
     "points": 0,
     "schema_version": 1,
     "solution": true
    }
   },
   "source": [
    "It is suitable as the solution involves many overlapping subprblems. If root is 3, the distance of node 4 has to be calculated twice times from nodes 5,2"
   ]
  },
  {
   "cell_type": "markdown",
   "metadata": {
    "deletable": false,
    "editable": false,
    "nbgrader": {
     "checksum": "f9a675e4875e995f261285d322e59ac2",
     "grade": false,
     "grade_id": "cell-bc2f4b735ce6608d",
     "locked": true,
     "schema_version": 1,
     "solution": false
    }
   },
   "source": [
    "## Question 6. \n",
    "Answer in prose what changes need to be made to the graph representation to incorporate the concept of edge weights."
   ]
  },
  {
   "cell_type": "markdown",
   "metadata": {
    "deletable": false,
    "nbgrader": {
     "checksum": "29d70dd6835f376857472704851c81f0",
     "grade": true,
     "grade_id": "cell-a9d4e31b797ed485",
     "locked": false,
     "points": 0,
     "schema_version": 1,
     "solution": true
    }
   },
   "source": [
    "we can change adj_list to adj_dict(dictionary instead of list) where neighbors of a node become keys of the dictionary and edge weights are values of such keys"
   ]
  },
  {
   "cell_type": "code",
   "execution_count": null,
   "metadata": {},
   "outputs": [],
   "source": []
  }
 ],
 "metadata": {
  "kernelspec": {
   "display_name": "Python 3",
   "language": "python",
   "name": "python3"
  },
  "language_info": {
   "codemirror_mode": {
    "name": "ipython",
    "version": 3
   },
   "file_extension": ".py",
   "mimetype": "text/x-python",
   "name": "python",
   "nbconvert_exporter": "python",
   "pygments_lexer": "ipython3",
   "version": "3.7.4"
  }
 },
 "nbformat": 4,
 "nbformat_minor": 2
}
