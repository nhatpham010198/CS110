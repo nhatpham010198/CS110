{
 "cells": [
  {
   "cell_type": "markdown",
   "metadata": {},
   "source": [
    "Before you turn this problem in, make sure everything runs as expected. First, **restart the kernel** (in the menubar, select Kernel$\\rightarrow$Restart) and then **run all cells** (in the menubar, select Cell$\\rightarrow$Run All).\n",
    "\n",
    "Make sure you fill in any place that says `YOUR CODE HERE` or \"YOUR ANSWER HERE\", as well as your name and collaborators below:"
   ]
  },
  {
   "cell_type": "code",
   "execution_count": null,
   "metadata": {},
   "outputs": [],
   "source": [
    "NAME = \"Nhat Pham\"\n",
    "COLLABORATORS = \"\""
   ]
  },
  {
   "cell_type": "markdown",
   "metadata": {},
   "source": [
    "---"
   ]
  },
  {
   "cell_type": "markdown",
   "metadata": {
    "deletable": false,
    "editable": false,
    "nbgrader": {
     "checksum": "79a6cbf153cc50422f9a0065ccadacb0",
     "grade": false,
     "grade_id": "cell-6988e414270fd484",
     "locked": true,
     "schema_version": 1,
     "solution": false
    }
   },
   "source": [
    "# CS110 Pre-class Work 13.1\n",
    "\n",
    "## Question 1.\n",
    "\n",
    "Complete the following functions, following the algorithms in Cormen et al."
   ]
  },
  {
   "cell_type": "code",
   "execution_count": 1,
   "metadata": {
    "deletable": false,
    "nbgrader": {
     "checksum": "41c10c1f28d75445b9f4bac2f9c8d2ae",
     "grade": false,
     "grade_id": "cell-542b2dce56293aef",
     "locked": false,
     "schema_version": 1,
     "solution": true
    }
   },
   "outputs": [],
   "source": [
    "def lcs_length(x, y):\n",
    "    \"\"\"\n",
    "    Computes the length of an LCS of strings x and y.\n",
    "    \n",
    "    Inputs:\n",
    "    - x, y: strings\n",
    "    \n",
    "    Outputs:\n",
    "    - c: a list of lists of ints OR a numpy array. c[i,j] contains the \n",
    "    length of a LCS of x[:i] and y[:j]\n",
    "    - b: a list of lists of strings OR a numpy array, containing the information\n",
    "    used for LCS reconstruction (See Cormen et al.) Use \"N\" (North), \"NW\" \n",
    "    (North West), and \"W\" (West) that correspond to the directions of the arrows \n",
    "    used in Cormen et al.\n",
    "    \"\"\"\n",
    "    m = len(list(x))\n",
    "    n = len(list(y))\n",
    "    #a list of sublists to store the length of lcs\n",
    "    b = [[None for _ in range(n)] for _ in range(m)]\n",
    "    #a list of sublists to store the direction\n",
    "    c = [[None for _ in range(n+1)] for _ in range(m+1)]\n",
    "    # fill in row 0 and col 0 with 0\n",
    "    for i in range(1,m+1):\n",
    "        c[i][0] = 0\n",
    "    for j in range(n+1):\n",
    "        c[0][j] = 0\n",
    "    #fill in the list the lsc of subproblems\n",
    "    for i in range(1,m+1):\n",
    "        for j in range(1,n+1):\n",
    "            # if the last characters of 2 sublist match\n",
    "            if list(x)[i-1] == list(y)[j-1]:\n",
    "                c[i][j] = c[i-1][j-1] + 1\n",
    "                #record in b table where the result of c[i][j] comes from\n",
    "                b[i-1][j-1] = 'NW' \n",
    "            #if last characters of 2 sublist do not match, take max(c[i-1][j],c[i][j-1])) to fill in c[i][j]\n",
    "            elif c[i-1][j] >= c[i][j-1]:\n",
    "#                 print(i,j)\n",
    "                c[i][j] = c[i-1][j]\n",
    "                b[i-1][j-1] = 'N'\n",
    "            else:\n",
    "                c[i][j] = c[i][j-1]\n",
    "                b[i-1][j-1] = 'W'\n",
    "    return c,b\n",
    "    # YOUR CODE HERE\n",
    "    raise NotImplementedError()"
   ]
  },
  {
   "cell_type": "code",
   "execution_count": 2,
   "metadata": {},
   "outputs": [
    {
     "data": {
      "text/plain": [
       "([[0, 0, 0, 0, 0, 0, 0],\n",
       "  [0, 1, 1, 1, 1, 1, 1],\n",
       "  [0, 1, 1, 1, 1, 1, 1],\n",
       "  [0, 1, 1, 2, 2, 2, 2],\n",
       "  [0, 1, 1, 2, 2, 2, 2],\n",
       "  [0, 1, 1, 2, 2, 2, 2],\n",
       "  [0, 1, 1, 2, 2, 2, 2],\n",
       "  [0, 1, 1, 2, 2, 3, 3]],\n",
       " [['NW', 'W', 'W', 'W', 'W', 'W'],\n",
       "  ['N', 'N', 'N', 'N', 'N', 'N'],\n",
       "  ['N', 'N', 'NW', 'W', 'W', 'W'],\n",
       "  ['N', 'N', 'N', 'N', 'N', 'N'],\n",
       "  ['N', 'N', 'N', 'N', 'N', 'N'],\n",
       "  ['N', 'N', 'N', 'N', 'N', 'N'],\n",
       "  ['N', 'N', 'N', 'N', 'NW', 'W']])"
      ]
     },
     "execution_count": 2,
     "metadata": {},
     "output_type": "execute_result"
    }
   ],
   "source": [
    "lcs_length('ambgdec', 'aubyci')"
   ]
  },
  {
   "cell_type": "code",
   "execution_count": 146,
   "metadata": {
    "deletable": false,
    "nbgrader": {
     "checksum": "461d600457c90d15b0e62453a571ff5e",
     "grade": false,
     "grade_id": "cell-6b825bf900c2cf0b",
     "locked": false,
     "schema_version": 1,
     "solution": true
    }
   },
   "outputs": [],
   "source": [
    "def print_lcs(b,x,i,j):\n",
    "    \"\"\"\n",
    "    Finds a LCS.\n",
    "    \n",
    "    Inputs:\n",
    "    - b: a list of lists of strings OR a numpy array, returned by lcs_length\n",
    "    - x: string, an input to lcs_length\n",
    "    - i, j: ints. print_lcs(b,x,i,j) returns a lcs of x[:i] and y[:j], where y\n",
    "    is an input to lcs_length.\n",
    "    \n",
    "    Outputs:\n",
    "    - lcs: list of strings, representing a LCS of x and y\n",
    "    - length: int, the length of the LCS\n",
    "    \n",
    "    You can choose to actually PRINT OUT the LCS or not using the print function.\n",
    "    \n",
    "    \"\"\"\n",
    "    #the base case is when points are to the left of the first letter of the string (i,j = -1)\n",
    "    if i<0 or j<0:\n",
    "        return\n",
    "    # b[i][j] == 'NW' means the subproblem has a match at the end of 2 substrings\n",
    "    #-> return the common letter at the end of the first input string (X)\n",
    "    if b[i][j] == 'NW':\n",
    "        print(i,j)\n",
    "        print_lcs(b,x,i-1,j-1)\n",
    "        print(list(x)[i])\n",
    "    #if there is no common letter at the end of two substrings, \n",
    "    #remove the last character of one substring to create a new subproblem depending on the value in b table\n",
    "    elif b[i][j] == 'N':\n",
    "        print(i,j)\n",
    "        print_lcs(b,x,i-1,j)\n",
    "    else:\n",
    "        print(i,j)\n",
    "        print_lcs(b,x,i,j-1)\n",
    "#     return(letter)\n",
    "    \n",
    "#     raise NotImplementedError()"
   ]
  },
  {
   "cell_type": "code",
   "execution_count": 147,
   "metadata": {},
   "outputs": [
    {
     "data": {
      "text/plain": [
       "([[0, 0, 0, 0, 0, 0, 0],\n",
       "  [0, 1, 1, 1, 1, 1, 1],\n",
       "  [0, 1, 1, 1, 1, 1, 1],\n",
       "  [0, 1, 1, 2, 2, 2, 2],\n",
       "  [0, 1, 1, 2, 2, 2, 2],\n",
       "  [0, 1, 1, 2, 2, 2, 2],\n",
       "  [0, 1, 1, 2, 2, 2, 2],\n",
       "  [0, 1, 1, 2, 2, 3, 3]],\n",
       " [['NW', 'W', 'W', 'W', 'W', 'W'],\n",
       "  ['N', 'N', 'N', 'N', 'N', 'N'],\n",
       "  ['N', 'N', 'NW', 'W', 'W', 'W'],\n",
       "  ['N', 'N', 'N', 'N', 'N', 'N'],\n",
       "  ['N', 'N', 'N', 'N', 'N', 'N'],\n",
       "  ['N', 'N', 'N', 'N', 'N', 'N'],\n",
       "  ['N', 'N', 'N', 'N', 'NW', 'W']])"
      ]
     },
     "execution_count": 147,
     "metadata": {},
     "output_type": "execute_result"
    }
   ],
   "source": [
    "lcs_length(x, y)"
   ]
  },
  {
   "cell_type": "code",
   "execution_count": 172,
   "metadata": {},
   "outputs": [
    {
     "data": {
      "text/plain": [
       "[['a', 'b', 'c'], 3]"
      ]
     },
     "execution_count": 172,
     "metadata": {},
     "output_type": "execute_result"
    }
   ],
   "source": [
    "def sub_print_lcs(b,x,i,j,result):\n",
    "    \"\"\"\n",
    "    Finds a LCS.\n",
    "    \n",
    "    Inputs:\n",
    "    - b: a list of lists of strings OR a numpy array, returned by lcs_length\n",
    "    - x: string, an input to lcs_length\n",
    "    - i, j: ints. print_lcs(b,x,i,j) returns a lcs of x[:i] and y[:j], where y\n",
    "    is an input to lcs_length.\n",
    "    \n",
    "    Outputs:\n",
    "    - lcs: list of strings, representing a LCS of x and y\n",
    "    - length: int, the length of the LCS\n",
    "    \n",
    "    You can choose to actually PRINT OUT the LCS or not using the print function.\n",
    "    \n",
    "    \"\"\"\n",
    "    if i<0 or j<0:\n",
    "        return \n",
    "    if b[i][j] == 'NW':\n",
    "#         print(i,j)\n",
    "#         print('here',list(x)[i] )\n",
    "#         result = [list(x)[i]] + result\n",
    "        sub_print_lcs(b,x,i-1,j-1,result)\n",
    "        result.append(list(x)[i])\n",
    "#         result.append(list(x)[i-1])\n",
    "    elif b[i][j] == 'N':\n",
    "#         print(i,j)\n",
    "        sub_print_lcs(b,x,i-1,j,result)\n",
    "    else:\n",
    "#         print(i,j)\n",
    "        sub_print_lcs(b,x,i,j-1,result)\n",
    "    return(result)\n",
    "\n",
    "#let sub_print_lcs(b,x,i,j,result) be the recrusive function so that a list, named result, is created\n",
    "#inside the main function, named print_lcs(b,x,i,j), to store required outputs\n",
    "\n",
    "def print_lcs(b,x,i,j):\n",
    "    result = []\n",
    "    sub_print_lcs(b,x,i,j,result)\n",
    "    result= [result,len(result)]\n",
    "    return result\n",
    "#     raise NotImplementedError()\n",
    "\n",
    "###\n",
    "import numpy as np\n",
    "x, y = 'ambgdec', 'aubyci'\n",
    "c, b = lcs_length(x, y)\n",
    "print_lcs(b,x,len(x)-1,len(y)-1)"
   ]
  },
  {
   "cell_type": "code",
   "execution_count": 173,
   "metadata": {
    "deletable": false,
    "editable": false,
    "nbgrader": {
     "checksum": "a31a295498f3b30f47b9b871b0393427",
     "grade": true,
     "grade_id": "cell-e06e8f09bb8a5063",
     "locked": true,
     "points": 1,
     "schema_version": 1,
     "solution": false
    }
   },
   "outputs": [],
   "source": [
    "import numpy as np\n",
    "x, y = 'ambgdec', 'aubyci'\n",
    "c, b = lcs_length(x, y)\n",
    "assert(print_lcs(b,x,len(x)-1,len(y)-1)[0] == ['a', 'b', 'c'])\n",
    "assert(print_lcs(b,x,len(x)-1,len(y)-1)[1] == 3)\n",
    "\n",
    "x, y = 'xyqwsssazdesaqqf', 'xoppoypllzookjdef'\n",
    "c, b = lcs_length(x, y)\n",
    "assert(print_lcs(b,x,len(x)-1,len(y)-1)[0]  == ['x', 'y', 'z', 'd', 'e', 'f'])\n",
    "assert(print_lcs(b,x,len(x)-1,len(y)-1)[1]  == 6)\n"
   ]
  },
  {
   "cell_type": "markdown",
   "metadata": {
    "deletable": false,
    "editable": false,
    "nbgrader": {
     "checksum": "57e7e7602ecc6a6e68a43e8617b53ce4",
     "grade": false,
     "grade_id": "cell-ec09089cf7743c1f",
     "locked": true,
     "schema_version": 1,
     "solution": false
    }
   },
   "source": [
    "## Question 2. (Adapted from Exercise 15-4.1 Cormen et al.)\n",
    "Use the functions built in Question 1 to find the LCS of `'10010101'` and `'010110110'`. You should store the list that represents the LCS you found in a variable named `lcs_q2`"
   ]
  },
  {
   "cell_type": "code",
   "execution_count": 176,
   "metadata": {
    "deletable": false,
    "nbgrader": {
     "checksum": "a56c7ef2c4a16d927d4dd74a899d0d3e",
     "grade": true,
     "grade_id": "cell-5d742a82dde1229f",
     "locked": false,
     "points": 0,
     "schema_version": 1,
     "solution": true
    }
   },
   "outputs": [],
   "source": [
    "def sub_print_lcs(b,x,i,j,result):\n",
    "    \"\"\"\n",
    "    Finds a LCS.\n",
    "    \n",
    "    Inputs:\n",
    "    - b: a list of lists of strings OR a numpy array, returned by lcs_length\n",
    "    - x: string, an input to lcs_length\n",
    "    - i, j: ints. print_lcs(b,x,i,j) returns a lcs of x[:i] and y[:j], where y\n",
    "    is an input to lcs_length.\n",
    "    \n",
    "    Outputs:\n",
    "    - lcs: list of strings, representing a LCS of x and y\n",
    "    - length: int, the length of the LCS\n",
    "    \n",
    "    You can choose to actually PRINT OUT the LCS or not using the print function.\n",
    "    \n",
    "    \"\"\"\n",
    "    if i<0 or j<0:\n",
    "        return \n",
    "    if b[i][j] == 'NW':\n",
    "#         print(i,j)\n",
    "#         print('here',list(x)[i] )\n",
    "#         result = [list(x)[i]] + result\n",
    "        sub_print_lcs(b,x,i-1,j-1,result)\n",
    "        result.append(list(x)[i])\n",
    "#         result.append(list(x)[i-1])\n",
    "    elif b[i][j] == 'N':\n",
    "#         print(i,j)\n",
    "        sub_print_lcs(b,x,i-1,j,result)\n",
    "    else:\n",
    "#         print(i,j)\n",
    "        sub_print_lcs(b,x,i,j-1,result)\n",
    "    return(result)\n",
    "\n",
    "\n",
    "def print_lcs(b,x,i,j):\n",
    "    lcs_q2 = []\n",
    "    sub_print_lcs(b,x,i,j,lcs_q2)\n",
    "    lcs_q2= [lcs_q2,len(lcs_q2)]\n",
    "    return lcs_q2\n",
    "# raise NotImplementedError()\n"
   ]
  },
  {
   "cell_type": "code",
   "execution_count": 179,
   "metadata": {},
   "outputs": [
    {
     "data": {
      "text/plain": [
       "[['1', '4', '6', '7', '9'], 5]"
      ]
     },
     "execution_count": 179,
     "metadata": {},
     "output_type": "execute_result"
    }
   ],
   "source": [
    "x, y = '51042679', '01245679'\n",
    "c, b = lcs_length(x, y)\n",
    "print_lcs(b,x,len(x)-1,len(y)-1)"
   ]
  },
  {
   "cell_type": "markdown",
   "metadata": {
    "deletable": false,
    "editable": false,
    "nbgrader": {
     "checksum": "ea6714ebe001a871d5b981d9f6a5c24a",
     "grade": false,
     "grade_id": "cell-c95fae244dee1762",
     "locked": true,
     "schema_version": 1,
     "solution": false
    }
   },
   "source": [
    "## Question 3. (Adapted from Exercise 15-4.5 Cormen et al.)\n",
    "Complete the following function, making use of `lcs_length` and `print_lcs`. \n",
    "\n"
   ]
  },
  {
   "cell_type": "markdown",
   "metadata": {},
   "source": [
    "The problem is rephrased as finding the the lcs of the input list and its arranged version (lst vs ascending lst)\n",
    "And we use three_way_merge_sort algorithm to sort the list and assigned the result to a new variable called arranged_lst.\n",
    "This approach allows us to find the lmis of a list with O(n^2) because we reduce the length of 2 n-long inputs by one unit each to create n^2 subproblems to find their lcs. As a result, the complexity of this result scales with O(n^2) where n is the length of the input"
   ]
  },
  {
   "cell_type": "code",
   "execution_count": 182,
   "metadata": {},
   "outputs": [],
   "source": [
    "def merge(list1,list2,list3):\n",
    "#     Change the type of all inputs to list so that the code can work with array\n",
    "    L = list(list1)\n",
    "    M = list(list2)\n",
    "    R = list(list3)\n",
    "#     Append sentinel values to make sure the below comparisons always work\n",
    "    L.append(float('inf'))\n",
    "    M.append(float('inf'))\n",
    "    R.append(float('inf'))\n",
    "\n",
    "    i = j = k = 0\n",
    "#   Determine the lenth of the sorted list, which is the sum of the length of 3 sublists. \n",
    "#   -3 is used to not add 3 inf values above, which should not be in the sorted list\n",
    "    length = len(L)+len(M)+len(R)-3\n",
    "    A = []\n",
    "    \n",
    "#   loop m through the range [0:length -1] to make sure the sorted list has all elements of sublists\n",
    "    for m in range(length):\n",
    "#       find the min value in 3 values in 3 sublists and append it to the sorted list A\n",
    "        if L[i] == min(L[i],M[j],R[k]):\n",
    "            A.append(L[i])\n",
    "            i += 1\n",
    "        elif M[j] == min(L[i],M[j],R[k]):\n",
    "            A.append(M[j])\n",
    "            j += 1\n",
    "        else:\n",
    "            A.append(R[k])\n",
    "            k += 1\n",
    "    return(A)\n",
    "\n",
    "def three_way_merge(A):\n",
    "# calculate index to split the input in three parts\n",
    "    r = len(A)\n",
    "    mid_1 = r//3 # \n",
    "    mid_2 = 2*r//3 # \n",
    "    if len(A) > 1:\n",
    "#       Recall the function to brake the list to the base case of 1 element\n",
    "        list1 = three_way_merge(A[:mid_1])\n",
    "        list2 = three_way_merge(A[mid_1:mid_2]) \n",
    "        list3 = three_way_merge(A[mid_2:r])\n",
    "\n",
    "#       recal the merge funcntion to merge sort sublists\n",
    "        output = merge(list1, list2, list3)\n",
    "\n",
    "    else:\n",
    "        output = A\n",
    "    return(output)\n"
   ]
  },
  {
   "cell_type": "code",
   "execution_count": 189,
   "metadata": {
    "deletable": false,
    "nbgrader": {
     "checksum": "07848d8cca7a0d100120951571e605d7",
     "grade": true,
     "grade_id": "cell-429c944f34a54c91",
     "locked": false,
     "points": 0,
     "schema_version": 1,
     "solution": true
    }
   },
   "outputs": [
    {
     "data": {
      "text/plain": [
       "[1, 4, 6, 7, 9]"
      ]
     },
     "execution_count": 189,
     "metadata": {},
     "output_type": "execute_result"
    }
   ],
   "source": [
    "\n",
    "def lmis(lst):\n",
    "    arranged_lst = three_way_merge(lst)\n",
    "    \n",
    "    x, y = lst, arranged_lst\n",
    "    c, b = lcs_length(x, y)\n",
    "    LMIS = print_lcs(b,x,len(x)-1,len(y)-1)\n",
    "    return(list(LMIS[0]))\n",
    "    \"\"\"\n",
    "    Finds the Longest Monotonically Increasing Subsequence (LMIS) of a list \n",
    "    (lst) of n numbers in O(n^2) time. Note that a monotonically increasing \n",
    "    sequence is a sequence of numbers such that: a_1 <= a_2 <= ... <= a_n .\n",
    "    \n",
    "    Inputs:\n",
    "    - lst: a list of ints\n",
    "    \n",
    "    Outputs:\n",
    "    - out_lst: a list of ints, a longest monotonically increasing subsequence\n",
    "    of lst\n",
    "    \"\"\"\n",
    "    # YOUR CODE HERE\n",
    "#     raise NotImplementedError()\n",
    "lmis([5, 1, 0, 4, 2, 6, 7, 9])"
   ]
  },
  {
   "cell_type": "code",
   "execution_count": 190,
   "metadata": {
    "deletable": false,
    "editable": false,
    "nbgrader": {
     "checksum": "76332bc03995fdbf3d2b61d41dc672ad",
     "grade": true,
     "grade_id": "cell-f8b218898fb43d19",
     "locked": true,
     "points": 0,
     "schema_version": 1,
     "solution": false
    }
   },
   "outputs": [],
   "source": [
    "assert(lmis([5, 1, 0, 4, 2, 6, 7, 9]) == [1, 4, 6, 7, 9])\n",
    "assert(lmis([6, -1,4,5,5,7,-6,2]) == [-1, 4, 5, 5, 7])"
   ]
  },
  {
   "cell_type": "code",
   "execution_count": null,
   "metadata": {},
   "outputs": [],
   "source": []
  }
 ],
 "metadata": {
  "kernelspec": {
   "display_name": "Python 3",
   "language": "python",
   "name": "python3"
  },
  "language_info": {
   "codemirror_mode": {
    "name": "ipython",
    "version": 3
   },
   "file_extension": ".py",
   "mimetype": "text/x-python",
   "name": "python",
   "nbconvert_exporter": "python",
   "pygments_lexer": "ipython3",
   "version": "3.7.4"
  }
 },
 "nbformat": 4,
 "nbformat_minor": 2
}
