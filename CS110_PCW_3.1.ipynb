{
 "cells": [
  {
   "cell_type": "markdown",
   "metadata": {},
   "source": [
    "Before you turn this problem in, make sure everything runs as expected. First, **restart the kernel** (in the menubar, select Kernel$\\rightarrow$Restart) and then **run all cells** (in the menubar, select Cell$\\rightarrow$Run All).\n",
    "\n",
    "Make sure you fill in any place that says `YOUR CODE HERE` or \"YOUR ANSWER HERE\", as well as your name and collaborators below:"
   ]
  },
  {
   "cell_type": "code",
   "execution_count": null,
   "metadata": {},
   "outputs": [],
   "source": [
    "NAME = \"Nhat Pham\"\n",
    "COLLABORATORS = \"\""
   ]
  },
  {
   "cell_type": "markdown",
   "metadata": {},
   "source": [
    "---"
   ]
  },
  {
   "cell_type": "markdown",
   "metadata": {
    "deletable": false,
    "editable": false,
    "nbgrader": {
     "checksum": "6eb33d4bbb91bdad042e00eb02fae1ad",
     "grade": false,
     "grade_id": "cell-f941f4ddd5e342f7",
     "locked": true,
     "schema_version": 1,
     "solution": false
    }
   },
   "source": [
    "# CS110 Pre-class Work 3.1\n",
    "\n",
    "## Question 1. \n",
    "Paste in your Python implementation of the maximum subarray from the previous class in the cell below and use that to find out the value of the maximum subarray of this array: `A = [-2, -3, 4, -1, -2, 1]`"
   ]
  },
  {
   "cell_type": "code",
   "execution_count": 28,
   "metadata": {},
   "outputs": [
    {
     "data": {
      "text/plain": [
       "(2, 3, 3)"
      ]
     },
     "execution_count": 28,
     "metadata": {},
     "output_type": "execute_result"
    }
   ],
   "source": [
    "def bruteforce_max_subarray(A):\n",
    "    max = float('-inf')\n",
    "    profit =()\n",
    "    for i in range(0,len(A)-1):\n",
    "        for j in range(i+1,len(A)):\n",
    "            if sum(A[i:j+1]) > max:\n",
    "                max = sum(A[i:j+1])\n",
    "                profit = (i,j,max)\n",
    "    return(profit)\n",
    "                \n",
    "A = [-2, -3, 4, -1, -2, 1]\n",
    "bruteforce_max_subarray(A)\n"
   ]
  },
  {
   "cell_type": "code",
   "execution_count": 14,
   "metadata": {
    "deletable": false,
    "nbgrader": {
     "checksum": "6c4991e90ad8cdfb8cf42529b7e5edd6",
     "grade": true,
     "grade_id": "cell-e69c8bbcd40ca242",
     "locked": false,
     "points": 0,
     "schema_version": 1,
     "solution": true
    }
   },
   "outputs": [],
   "source": [
    "def max_cross_subarray(A,low,mid,high):\n",
    "    left_max = right_max = float('-inf')\n",
    "    sum = 0\n",
    "    for i in reversed(range(mid)):\n",
    "        sum += A[i]\n",
    "        if sum > left_max:\n",
    "            left_max = sum\n",
    "            max_left = i\n",
    "    sum = 0\n",
    "    for j in range(mid,high,1):\n",
    "        sum += A[j]\n",
    "        if sum > right_max:\n",
    "            right_max = sum\n",
    "            max_right = j\n",
    "    return(max_left,max_right,left_max+right_max)\n",
    "def max_subarray(A,low,high):\n",
    "    if low == high:\n",
    "        return(low,high,A[low])\n",
    "    if low != high:\n",
    "        mid = (low+high)//2\n",
    "    left_low,left_high,left_max = max_subarray(A,low,mid)\n",
    "    right_low,right_high,right_max = max_subarray(A,mid+1,high)\n",
    "    cross_low,cross_high,cross_max = max_cross_subarray(A,low,mid,high)\n",
    "    if leff_max == max(left_max,right_max,cross_max):\n",
    "        return(left_low,left_high,left_max)\n",
    "    elif right_max == max(left_max,right_max,cross_max):\n",
    "        return(right_low,right_high,right_max)\n",
    "    elif cross_maxx == max(left_max,right_max,cross_max):\n",
    "        return(cross_low,cross_high,cross_max)\n",
    "# raise NotImplementedError()"
   ]
  },
  {
   "cell_type": "markdown",
   "metadata": {
    "deletable": false,
    "editable": false,
    "nbgrader": {
     "checksum": "676f4558ca97298a50665d2b57563a54",
     "grade": false,
     "grade_id": "cell-6b2d39096ef80c67",
     "locked": true,
     "schema_version": 1,
     "solution": false
    }
   },
   "source": [
    "## Question 2. \n",
    "Now, your friend Joe comes and appends a single extra number at the end of the array, which becomes:  `B = [-2, -3, 4, -1, -2, 1, 8]`. Do you have to re-run the entire maximum subarray again? Explain your answer. \n",
    "The subsequent questions will help you figure out an efficient algorithmic strategy to address the last question, but make sure to write your explanation above first, before answering the remaining questions.\n"
   ]
  },
  {
   "cell_type": "markdown",
   "metadata": {
    "deletable": false,
    "nbgrader": {
     "checksum": "b848c0f0fa07252cc99055a801b12e47",
     "grade": true,
     "grade_id": "cell-d4b7cd845c816263",
     "locked": false,
     "points": 0,
     "schema_version": 1,
     "solution": true
    }
   },
   "source": [
    "Given the brute force method above,we have to re-run all over again because we increase the number of inner and outer loops by one each, meaning more combinations to consider.\n"
   ]
  },
  {
   "cell_type": "markdown",
   "metadata": {
    "deletable": false,
    "editable": false,
    "nbgrader": {
     "checksum": "055be509a3fd9e61e64a6572949aa994",
     "grade": false,
     "grade_id": "cell-7280eecbaa455be1",
     "locked": true,
     "schema_version": 1,
     "solution": false
    }
   },
   "source": [
    "## Question 3. \n",
    "\n",
    "**Determine if the following statement is True or False and explain your answer.**\n",
    "If the maximum subarray of the array A is different than the maximum subarray of the array B (questions 1 and 2), the new maximum-subarray doesn’t need to include 8 (i.e., the newly appended element). \n"
   ]
  },
  {
   "cell_type": "markdown",
   "metadata": {
    "deletable": false,
    "nbgrader": {
     "checksum": "2b29f3c119737d73a7578e00d43972a4",
     "grade": true,
     "grade_id": "cell-9377964a8756f13b",
     "locked": false,
     "points": 0,
     "schema_version": 1,
     "solution": true
    }
   },
   "source": [
    "it has to include 8 because there is no reason for the different return otherwise. To be specific, in the old result, we already determine the best buying day. Given a new element of the list, we just need to consider the old max value with the sum of the list beggining from the pre-determined buying day to the newl-added element."
   ]
  },
  {
   "cell_type": "markdown",
   "metadata": {
    "deletable": false,
    "editable": false,
    "nbgrader": {
     "checksum": "461bf61cb22c2304f3988c6f34a901e8",
     "grade": false,
     "grade_id": "cell-e7cc711ccdade69f",
     "locked": true,
     "schema_version": 1,
     "solution": false
    }
   },
   "source": [
    "## Question 4.\n",
    "Complete the Python function `incremental_max_subarray(x, mx)` in the cell below.\n",
    "\n",
    "This [video](https://www.youtube.com/watch?v=AAgErqQmwmA&list=PLF_a-qBXTGFektoI6JUOTRL36JlvD04BR&index=4&t=0s)  might be helpful to understand the `incremental_max_subarray` problem."
   ]
  },
  {
   "cell_type": "code",
   "execution_count": 100,
   "metadata": {
    "deletable": false,
    "nbgrader": {
     "checksum": "ac3f0799ce4ff7159403a97b99cbb5bd",
     "grade": false,
     "grade_id": "cell-0230e459f3d701f8",
     "locked": false,
     "schema_version": 1,
     "solution": true
    }
   },
   "outputs": [
    {
     "data": {
      "text/plain": [
       "10"
      ]
     },
     "execution_count": 100,
     "metadata": {},
     "output_type": "execute_result"
    }
   ],
   "source": [
    "def incremental_max_subarray(x,mx):\n",
    "    if len(x)==1:\n",
    "        return(x[0])\n",
    "    else:\n",
    "        max_current=[x]\n",
    "        for i in range(len(x)):\n",
    "            if sum(x[i:]) >= mx:\n",
    "                mx = (sum(x[i:]))\n",
    "    return(mx)\n",
    "\n",
    "                   \n",
    "    \"\"\" \n",
    "\n",
    "    Inputs:\n",
    "    - x: a NON-EMPTY list of numbers (e.g., the array B in the first two questions above). \n",
    "        * If x has 1 element: returns the value of the element regardless of the value of mx\n",
    "    - mx: the maximum subarray of x excluding its last element (i.e., compute the \n",
    "    maximum subarray of the input array x considering only its first len(x) - 1 elements)\n",
    "    \n",
    "    Output: The maximum subarray of the array x.\n",
    "    \n",
    "    For example, using the array B in question 2, the result of incremental_max_subarray(B, 4) \n",
    "    is 10 (10 = 8 + 1 - 2 -1 + 4). \n",
    "    \"\"\"\n",
    "B = [-2, -3, 4, -1, -2, 1, 8]\n",
    "incremental_max_subarray(B,4)\n",
    "    # YOUR CODE HERE\n",
    "#     raise NotImplementedError()"
   ]
  },
  {
   "cell_type": "code",
   "execution_count": 101,
   "metadata": {
    "deletable": false,
    "editable": false,
    "nbgrader": {
     "checksum": "70a3880be02d6f703dfa95229957e71f",
     "grade": true,
     "grade_id": "cell-9abf19e56620ffa3",
     "locked": true,
     "points": 1,
     "schema_version": 1,
     "solution": false
    }
   },
   "outputs": [],
   "source": [
    "B = [-2, -3, 4, -1, -2, 1, 8]\n",
    "assert(incremental_max_subarray(B, 4) == 10)\n",
    "assert(incremental_max_subarray(B[:1], 0) == B[0])"
   ]
  },
  {
   "cell_type": "code",
   "execution_count": 103,
   "metadata": {
    "deletable": false,
    "nbgrader": {
     "checksum": "278d2e7036e916ce0fafffdd0c237584",
     "grade": true,
     "grade_id": "cell-bacebe71191cbd0f",
     "locked": false,
     "points": 0,
     "schema_version": 1,
     "solution": true
    }
   },
   "outputs": [],
   "source": []
  },
  {
   "cell_type": "code",
   "execution_count": 125,
   "metadata": {
    "deletable": false,
    "nbgrader": {
     "checksum": "d9cdd0a60c40e487e87d79d21915e36b",
     "grade": false,
     "grade_id": "cell-fd96d4ccccd99fe6",
     "locked": false,
     "schema_version": 1,
     "solution": true
    }
   },
   "outputs": [
    {
     "name": "stdout",
     "output_type": "stream",
     "text": [
      "A[i:j] []\n",
      "mx= -inf\n",
      "incremental_max_subarray(A[i:j],mx) -inf\n",
      "A[i:j] [-3]\n",
      "mx= -inf\n",
      "incremental_max_subarray(A[i:j],mx) -3\n",
      "A[i:j] [-3, 4]\n",
      "mx= -3\n",
      "incremental_max_subarray(A[i:j],mx) 4\n",
      "A[i:j] [-3, 4, -1]\n",
      "mx= 4\n",
      "incremental_max_subarray(A[i:j],mx) 4\n",
      "A[i:j] [-3, 4, -1, -2]\n",
      "mx= 4\n",
      "incremental_max_subarray(A[i:j],mx) 4\n",
      "A[i:j] [-3, 4, -1, -2, 1]\n",
      "mx= 4\n",
      "incremental_max_subarray(A[i:j],mx) 4\n",
      "A[i:j] [-3, 4, -1, -2, 1, 8]\n",
      "mx= 4\n",
      "incremental_max_subarray(A[i:j],mx) 10\n"
     ]
    },
    {
     "data": {
      "text/plain": [
       "10"
      ]
     },
     "execution_count": 125,
     "metadata": {},
     "output_type": "execute_result"
    }
   ],
   "source": [
    "def max_subarray(A):\n",
    "    mx = float('-inf')\n",
    "    global_max = float('-inf')\n",
    "    for j in range(1,len(A)+1):\n",
    "        print('A[i:j]',A[i:j])\n",
    "        print('mx=',mx)\n",
    "        print('incremental_max_subarray(A[i:j],mx)',incremental_max_subarray(A[i:j],mx))\n",
    "        mx = incremental_max_subarray(A[i:j],mx)\n",
    "        if mx > global_max:\n",
    "            global_max = mx\n",
    "    return(global_max)\n",
    "            \n",
    "            \n",
    "    \"\"\"\n",
    "    Using `incremental_max_subarray` iteratively on A to produce the value of the maximum\n",
    "    subarray of A.\n",
    "    \n",
    "    Inputs:\n",
    "    - A: a NON-EMPTY list of floats\n",
    "    \n",
    "    Outputs: flaot, the sum of the maximum subarray of A\n",
    "    \"\"\"\n",
    "    # YOUR CODE HERE\n",
    "#     raise NotImplementedError()\n",
    "max_subarray(B)"
   ]
  },
  {
   "cell_type": "code",
   "execution_count": 108,
   "metadata": {},
   "outputs": [
    {
     "data": {
      "text/plain": [
       "1"
      ]
     },
     "execution_count": 108,
     "metadata": {},
     "output_type": "execute_result"
    }
   ],
   "source": [
    "[1,3,5,3,6,2].index(3)"
   ]
  },
  {
   "cell_type": "code",
   "execution_count": null,
   "metadata": {
    "deletable": false,
    "editable": false,
    "nbgrader": {
     "checksum": "74149a9559625383203ec1320bff5558",
     "grade": true,
     "grade_id": "cell-669ad779766aa2c3",
     "locked": true,
     "points": 1,
     "schema_version": 1,
     "solution": false
    }
   },
   "outputs": [],
   "source": [
    "# Please ignore this cell. This cell is for us to implement the tests \n",
    "# to see if your code works properly. "
   ]
  },
  {
   "cell_type": "markdown",
   "metadata": {
    "deletable": false,
    "editable": false,
    "nbgrader": {
     "checksum": "03054d2ff22ec9310060ab534208ec0d",
     "grade": false,
     "grade_id": "cell-ae966fc92d098939",
     "locked": true,
     "schema_version": 1,
     "solution": false
    }
   },
   "source": [
    "### Part 2.\n",
    "Is this more efficient than the divide-and-conquer approach? Explain."
   ]
  },
  {
   "cell_type": "markdown",
   "metadata": {
    "deletable": false,
    "nbgrader": {
     "checksum": "69eb86a7f05367f6396017910664f67d",
     "grade": true,
     "grade_id": "cell-cd8f0b130a7136db",
     "locked": false,
     "points": 0,
     "schema_version": 1,
     "solution": true
    }
   },
   "source": [
    "in this method, we run 2 loops, for each of which the running time depends on its input size. this means the run time is \\theta(n^2) while that of the divide-and-conquer method is \\theta(nlog(n)). Therefore, the dividie-and-conquer method is more efficient."
   ]
  },
  {
   "cell_type": "code",
   "execution_count": null,
   "metadata": {},
   "outputs": [],
   "source": []
  }
 ],
 "metadata": {
  "kernelspec": {
   "display_name": "Python 3",
   "language": "python",
   "name": "python3"
  },
  "language_info": {
   "codemirror_mode": {
    "name": "ipython",
    "version": 3
   },
   "file_extension": ".py",
   "mimetype": "text/x-python",
   "name": "python",
   "nbconvert_exporter": "python",
   "pygments_lexer": "ipython3",
   "version": "3.7.4"
  }
 },
 "nbformat": 4,
 "nbformat_minor": 2
}
