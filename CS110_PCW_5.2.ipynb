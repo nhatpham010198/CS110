{
 "cells": [
  {
   "cell_type": "markdown",
   "metadata": {},
   "source": [
    "Before you turn this problem in, make sure everything runs as expected. First, **restart the kernel** (in the menubar, select Kernel$\\rightarrow$Restart) and then **run all cells** (in the menubar, select Cell$\\rightarrow$Run All).\n",
    "\n",
    "Make sure you fill in any place that says `YOUR CODE HERE` or \"YOUR ANSWER HERE\", as well as your name and collaborators below:"
   ]
  },
  {
   "cell_type": "code",
   "execution_count": null,
   "metadata": {},
   "outputs": [],
   "source": [
    "NAME = \"Nhat Pham\"\n",
    "COLLABORATORS = \"\""
   ]
  },
  {
   "cell_type": "markdown",
   "metadata": {},
   "source": [
    "---"
   ]
  },
  {
   "cell_type": "markdown",
   "metadata": {
    "deletable": false,
    "editable": false,
    "nbgrader": {
     "checksum": "1a4c3cfc3c34bf644ee45d91835b6f70",
     "grade": false,
     "grade_id": "cell-61b183447ded09ef",
     "locked": true,
     "schema_version": 1,
     "solution": false
    }
   },
   "source": [
    "# CS110 Pre-class Work 5.2\n",
    "\n",
    "## Question 1.\n",
    "Using Figure 7.1 in Cormen et al. as a model, perform manually the partition process on the following list: A = [1,5,6,2,3,8,9,4,7]. You just need to specify the followings:\n",
    "1. The array after the process is done.\n",
    "2. The value of $i$ after the process is done."
   ]
  },
  {
   "cell_type": "markdown",
   "metadata": {
    "deletable": false,
    "nbgrader": {
     "checksum": "06dce98d07f8f042785a795b32e7ef75",
     "grade": true,
     "grade_id": "cell-7aa520f8af13679b",
     "locked": false,
     "points": 0,
     "schema_version": 1,
     "solution": true
    }
   },
   "source": [
    "\n",
    "* j = 0, i = -1. A[j] = 1 -> i = 0 -> swap A[i]=1 and A[j]= 1. A stays the same\n",
    "    * A = [1, 5, 6, 2, 3, 8, 9, 4, 7]\n",
    "* j = 1, i = 0 -> 5<7 -> i = 1 -> swap 5 and 5. A stays the same\n",
    "    * A = [1, 5, 6, 2, 3, 8, 9, 4, 7]\n",
    "* j = 2, i = 1 -> 6<7 -> i = 2 -> swap 6 and 6. A stays the same\n",
    "    * A = [1, 5, 6, 2, 3, 8, 9, 4, 7]\n",
    "* j = 3, i = 2 -> 2<7 -> i = 3 -> swap 2 and 2. A stays the same\n",
    "    * A = [1, 5, 6, 2, 3, 8, 9, 4, 7]\n",
    "* j = 4, i = 3 -> 3<7 -> i = 4 -> swap 3 and 3. A stays the same\n",
    "    * A = [1, 5, 6, 2, 3, 8, 9, 4, 7]\n",
    "* j = 5, i = 4 -> 8 > 7 -> do nothing\n",
    "    * A = [1, 5, 6, 2, 3, 8, 9, 4, 7]\n",
    "* j = 6, i = 4 -> 9>7 -> do nothing\n",
    "    * A = [1, 5, 6, 2, 3, 8, 9, 4, 7]\n",
    "* j = 7, i = 4 -> 4<7 -> i = 5 -> swap 8 and 4.\n",
    "    * A = [1, 5, 6, 2, 3, 4, 9, 8, 7]\n",
    "\n",
    "* return i + 1 = 5 + 1 = 6"
   ]
  },
  {
   "cell_type": "markdown",
   "metadata": {
    "deletable": false,
    "editable": false,
    "nbgrader": {
     "checksum": "21059776e9083caf84e8abb5b6fb893e",
     "grade": false,
     "grade_id": "cell-6c0a9dfd6980c336",
     "locked": true,
     "schema_version": 1,
     "solution": false
    }
   },
   "source": [
    "## Question 2.\n",
    "Code up a Python implementation of `partition(A, p, r)`, closely follow the pseudo-code in Cormen et al., p.172. Your function should return the index of the pivot in the array."
   ]
  },
  {
   "cell_type": "code",
   "execution_count": 77,
   "metadata": {
    "deletable": false,
    "nbgrader": {
     "checksum": "395997ac94ed1416c67b22f7977c07a5",
     "grade": false,
     "grade_id": "cell-1ceb2600756c60ff",
     "locked": false,
     "schema_version": 1,
     "solution": true
    }
   },
   "outputs": [
    {
     "data": {
      "text/plain": [
       "6"
      ]
     },
     "execution_count": 77,
     "metadata": {},
     "output_type": "execute_result"
    }
   ],
   "source": [
    "def partition(A,p,r):\n",
    "    \"\"\"\n",
    "    Assume r<len(A) and p>=0\n",
    "    \"\"\"\n",
    "    x = A[r]\n",
    "    i = p - 1\n",
    "    for j in range(p,r):\n",
    "        if A[j] <= x:\n",
    "            i +=1\n",
    "            A[j], A[i] = A[i], A[j]\n",
    "    A[i+1], A[r] = A[r], A[i+1]\n",
    "    return i+1\n",
    "A = [1,5,6,2,3,8,9,4,7]\n",
    "\n",
    "partition(A, 0, len(A)-1)\n",
    "#     raise NotImplementedError()"
   ]
  },
  {
   "cell_type": "code",
   "execution_count": 66,
   "metadata": {},
   "outputs": [],
   "source": [
    "for j in range(0,-1):\n",
    "    print(j)"
   ]
  },
  {
   "cell_type": "code",
   "execution_count": 78,
   "metadata": {
    "deletable": false,
    "editable": false,
    "nbgrader": {
     "checksum": "34aa315313b6f9d8de8efe0922e5b563",
     "grade": true,
     "grade_id": "cell-a57b60117a7b82fb",
     "locked": true,
     "points": 1,
     "schema_version": 1,
     "solution": false
    }
   },
   "outputs": [],
   "source": [
    "A = [1,5,6,2,3,8,9,4,7]\n",
    "assert(partition(A, 0, len(A)-1)==6)"
   ]
  },
  {
   "cell_type": "markdown",
   "metadata": {
    "deletable": false,
    "editable": false,
    "nbgrader": {
     "checksum": "3496e310776eba92a8290d114db627cd",
     "grade": false,
     "grade_id": "cell-cd490c45f6733522",
     "locked": true,
     "schema_version": 1,
     "solution": false
    }
   },
   "source": [
    "## Question 3.\n",
    "\n",
    "Code up your own Python implementation of `quicksort(A, p, r)`, using `partition(A,p,r)`."
   ]
  },
  {
   "cell_type": "code",
   "execution_count": 79,
   "metadata": {
    "deletable": false,
    "nbgrader": {
     "checksum": "7e40c51fd1bd31c790aa0dd8abde1fb7",
     "grade": false,
     "grade_id": "cell-8c39ebb8cd1aa83a",
     "locked": false,
     "schema_version": 1,
     "solution": true
    }
   },
   "outputs": [
    {
     "data": {
      "text/plain": [
       "[0, 1, 2, 3, 4, 5, 6, 7, 8, 9]"
      ]
     },
     "execution_count": 79,
     "metadata": {},
     "output_type": "execute_result"
    }
   ],
   "source": [
    "def quick_sort(A,p,r):\n",
    "    if p < r:\n",
    "        q = partition(A,p,r)\n",
    "        quick_sort(A,p,q-1)\n",
    "        quick_sort(A,q,r)\n",
    "        return(A)\n",
    "    else:\n",
    "        return A\n",
    "    \n",
    "#     raise NotImplementedError()\n",
    "A = [9, 8, 7, 6, 5, 4, 3, 2, 1, 0]\n",
    "quick_sort(A, 0, len(A)-1)"
   ]
  },
  {
   "cell_type": "code",
   "execution_count": 80,
   "metadata": {
    "deletable": false,
    "editable": false,
    "nbgrader": {
     "checksum": "80923d1142f0ef958a616db1105a8c1a",
     "grade": true,
     "grade_id": "cell-4f822430efd456ee",
     "locked": true,
     "points": 1,
     "schema_version": 1,
     "solution": false
    }
   },
   "outputs": [],
   "source": [
    "A = [0]\n",
    "assert(quick_sort(A, 0, 0) == [0])\n",
    "A = [3,1,2]\n",
    "assert(quick_sort(A, 0, 2) == [1,2,3])"
   ]
  },
  {
   "cell_type": "markdown",
   "metadata": {
    "deletable": false,
    "editable": false,
    "nbgrader": {
     "checksum": "741cfe874ccaef343713f81ec963360c",
     "grade": false,
     "grade_id": "cell-53941fba9302c591",
     "locked": true,
     "schema_version": 1,
     "solution": false
    }
   },
   "source": [
    "## Question 4. \n",
    "Explain (using experimental plots) the running time of `quick_sort` when: \n",
    "1. all elements of array A have the same value (e.g., [1,1,1])?\n",
    "2. array A contains distinct elements sorted in decreasing order (e.g., [5,4,2,1])?\n"
   ]
  },
  {
   "cell_type": "code",
   "execution_count": 82,
   "metadata": {
    "deletable": false,
    "nbgrader": {
     "checksum": "f5ddaf0e684d72d229df078b18f321f8",
     "grade": true,
     "grade_id": "cell-b58035dd5fa02329",
     "locked": false,
     "points": 0,
     "schema_version": 1,
     "solution": true
    }
   },
   "outputs": [
    {
     "data": {
      "text/plain": [
       "<matplotlib.legend.Legend at 0x120533b50>"
      ]
     },
     "execution_count": 82,
     "metadata": {},
     "output_type": "execute_result"
    },
    {
     "data": {
      "image/png": "[encoded data removed]",
      "text/plain": [
       "<Figure size 432x288 with 1 Axes>"
      ]
     },
     "metadata": {
      "needs_background": "light"
     },
     "output_type": "display_data"
    }
   ],
   "source": [
    "import time\n",
    "import matplotlib.pyplot as plt\n",
    "same_time = [] #list of running time of inputs having the same elements\n",
    "reversed_time = [] #list of running time of inputs having reversed elements\n",
    "input_size = [] #input size\n",
    "for input_sz in range(1,101): #run the loop 100 times with input size from 1 to 99\n",
    "    input_size.append(input_sz)\n",
    "\n",
    "    same_input = [1] * input_sz #create inputs having the same elements\n",
    "    start = time.time() #mark starting time\n",
    "    quick_sort(same_input,0,len(same_input)-1) #run\n",
    "    end = time.time() #mark the ending moment\n",
    "    same_time.append(end-start) #add running time to the result list\n",
    "    \n",
    "    reversed_input = list(reversed(range(input_sz))) #create inputs having reversed elements\n",
    "    start = time.time()\n",
    "    quick_sort(reversed_input,0,len(reversed_input)-1)\n",
    "    end = time.time()\n",
    "    reversed_time.append(end-start)\n",
    "    \n",
    "plt.plot(input_size,same_time) \n",
    "plt.plot(input_size,reversed_time) \n",
    "plt.legend(['same elements','reversed elements'])\n",
    "# raise NotImplementedError()"
   ]
  },
  {
   "cell_type": "markdown",
   "metadata": {},
   "source": [
    "Conclusion: running time of input having the same elements is generally longer as in the partition function has to do the swap command in every loop, which does not happend in the resversed list"
   ]
  },
  {
   "cell_type": "code",
   "execution_count": null,
   "metadata": {},
   "outputs": [],
   "source": []
  }
 ],
 "metadata": {
  "kernelspec": {
   "display_name": "Python 3",
   "language": "python",
   "name": "python3"
  },
  "language_info": {
   "codemirror_mode": {
    "name": "ipython",
    "version": 3
   },
   "file_extension": ".py",
   "mimetype": "text/x-python",
   "name": "python",
   "nbconvert_exporter": "python",
   "pygments_lexer": "ipython3",
   "version": "3.7.4"
  }
 },
 "nbformat": 4,
 "nbformat_minor": 2
}
